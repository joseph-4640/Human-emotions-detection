{
  "cells": [
    {
      "cell_type": "markdown",
      "source": [
        "# **HUMAN EMOTIONS DETECTION**"
      ],
      "metadata": {
        "id": "4f9wEwp7bOHd"
      },
      "id": "4f9wEwp7bOHd"
    },
    {
      "cell_type": "markdown",
      "source": [
        "**OBJECTIVES**"
      ],
      "metadata": {
        "id": "i0zJWJ1hedEd"
      },
      "id": "i0zJWJ1hedEd"
    },
    {
      "cell_type": "markdown",
      "source": [
        "\n",
        "\n",
        "1. Read in data with multiple classes\n",
        "2. Prepare and transform data\n",
        "3. Download a pretrained model\n",
        "4. Alter the model to suit our needs with Transfer Learning.\n",
        "5. Use the altered part to train our data\n",
        "\n"
      ],
      "metadata": {
        "id": "BR4sXQSBejZz"
      },
      "id": "BR4sXQSBejZz"
    },
    {
      "cell_type": "markdown",
      "source": [
        "## **PREPARE DATA**"
      ],
      "metadata": {
        "id": "ZS9W7l-GbdEo"
      },
      "id": "ZS9W7l-GbdEo"
    },
    {
      "cell_type": "markdown",
      "source": [
        "### **SET UP AND DATA LOADING**"
      ],
      "metadata": {
        "id": "MDLho3hwbi9y"
      },
      "id": "MDLho3hwbi9y"
    },
    {
      "cell_type": "code",
      "source": [
        "!pip install torchinfo > /dev/null 2>&1\n",
        "!pip install -q kaggle\n",
        "\n",
        "import matplotlib.pyplot as plt\n",
        "import os\n",
        "import numpy as np\n",
        "import pandas as pd\n",
        "import torch\n",
        "import torchinfo\n",
        "import torchvision\n",
        "import sklearn\n",
        "import cv2\n",
        "import PIL\n",
        "import torch.nn as nn\n",
        "import torch.optim as optim\n",
        "\n",
        "from PIL import Image\n",
        "from pathlib import Path\n",
        "from torchvision import datasets, transforms\n",
        "from sklearn.metrics import ConfusionMatrixDisplay, confusion_matrix\n",
        "from tqdm.notebook import tqdm\n",
        "from torchinfo import summary\n",
        "from collections import Counter\n",
        "from torch.utils.data import DataLoader\n",
        "\n",
        "from IPython.display import display\n",
        "import ipywidgets as widgets"
      ],
      "metadata": {
        "id": "EcWC76GZbbz_"
      },
      "id": "EcWC76GZbbz_",
      "execution_count": 45,
      "outputs": []
    },
    {
      "cell_type": "markdown",
      "source": [
        "**DEVICE**"
      ],
      "metadata": {
        "id": "aePXNw-2B7VQ"
      },
      "id": "aePXNw-2B7VQ"
    },
    {
      "cell_type": "code",
      "source": [
        "if torch.cuda.is_available():\n",
        "  device = \"cuda\"\n",
        "else:\n",
        "  device = \"cpu\"\n",
        "print(f\"Device: {device}\")"
      ],
      "metadata": {
        "colab": {
          "base_uri": "https://localhost:8080/"
        },
        "id": "GbyKqeNkCAj-",
        "outputId": "00b8f014-5da3-4963-f05a-a620bcf7d09e"
      },
      "id": "GbyKqeNkCAj-",
      "execution_count": 2,
      "outputs": [
        {
          "output_type": "stream",
          "name": "stdout",
          "text": [
            "Device: cuda\n"
          ]
        }
      ]
    },
    {
      "cell_type": "markdown",
      "source": [
        "**IMPORT DATA**"
      ],
      "metadata": {
        "id": "HlFV_iFrf0BQ"
      },
      "id": "HlFV_iFrf0BQ"
    },
    {
      "cell_type": "markdown",
      "source": [
        "We'll load oue data from kaggle using kaggle API's"
      ],
      "metadata": {
        "id": "oXJcA5jwf5WI"
      },
      "id": "oXJcA5jwf5WI"
    },
    {
      "cell_type": "code",
      "source": [
        "# Create a .kaggle directory\n",
        "!mkdir -p ~/.kaggle\n",
        "\n",
        "# Move kaggle.json to the directory\n",
        "!cp kaggle.json ~/.kaggle/\n",
        "\n",
        "# Set permissions\n",
        "!chmod 600 ~/.kaggle/kaggle.json"
      ],
      "metadata": {
        "id": "0FPzg5wheHFs"
      },
      "id": "0FPzg5wheHFs",
      "execution_count": 3,
      "outputs": []
    },
    {
      "cell_type": "code",
      "source": [
        "!kaggle datasets download muhammadhananasghar/human-emotions-datasethes"
      ],
      "metadata": {
        "colab": {
          "base_uri": "https://localhost:8080/"
        },
        "id": "5RLuxQkRgVA2",
        "outputId": "06e40ea5-201c-4ba2-90a6-775dfb1426e8"
      },
      "id": "5RLuxQkRgVA2",
      "execution_count": 6,
      "outputs": [
        {
          "output_type": "stream",
          "name": "stdout",
          "text": [
            "Dataset URL: https://www.kaggle.com/datasets/muhammadhananasghar/human-emotions-datasethes\n",
            "License(s): unknown\n",
            "human-emotions-datasethes.zip: Skipping, found more recently modified local copy (use --force to force download)\n"
          ]
        }
      ]
    },
    {
      "cell_type": "code",
      "source": [
        "!unzip -q \"/content/human-emotions-datasethes.zip\" -d \"/content/dataset\""
      ],
      "metadata": {
        "collapsed": true,
        "id": "cUgczgG7gsAx"
      },
      "id": "cUgczgG7gsAx",
      "execution_count": 7,
      "outputs": []
    },
    {
      "cell_type": "markdown",
      "source": [
        "**ASSIGN DIRECTORY**"
      ],
      "metadata": {
        "id": "XNvUf5Hbhfhr"
      },
      "id": "XNvUf5Hbhfhr"
    },
    {
      "cell_type": "code",
      "source": [
        "train_dir = Path(\"/content/dataset/Emotions Dataset/Emotions Dataset/train\")\n",
        "val_dir = Path(\"/content/dataset/Emotions Dataset/Emotions Dataset/test\")\n",
        "print(f\"Train directory: {train_dir}\")\n",
        "print(f\"Validation directory: {val_dir}\")"
      ],
      "metadata": {
        "colab": {
          "base_uri": "https://localhost:8080/"
        },
        "id": "JQbWHdy0haCQ",
        "outputId": "9fb6acfe-a0e3-4f66-842d-fdf6d7f4af84"
      },
      "id": "JQbWHdy0haCQ",
      "execution_count": 8,
      "outputs": [
        {
          "output_type": "stream",
          "name": "stdout",
          "text": [
            "Train directory: /content/dataset/Emotions Dataset/Emotions Dataset/train\n",
            "Validation directory: /content/dataset/Emotions Dataset/Emotions Dataset/test\n"
          ]
        }
      ]
    },
    {
      "cell_type": "markdown",
      "source": [
        "**DISPLAY SAMPLE IMAGES**"
      ],
      "metadata": {
        "id": "yAg8hpEx37Er"
      },
      "id": "yAg8hpEx37Er"
    },
    {
      "cell_type": "code",
      "source": [
        "def sample_images(dir, classname):\n",
        "  \"\"\"The function displays 5 random images from a class\n",
        "  input:\n",
        "    dir: path to the directory\n",
        "    classname: name of the class\n",
        "  \"\"\"\n",
        "  # Gets the file in the directory\n",
        "  class_dir = os.path.join(dir, classname)\n",
        "  images = os.listdir(class_dir)\n",
        "  # Picks 5 random images\n",
        "  images_sample = np.random.choice(images, 5)\n",
        "  # Plot the images\n",
        "  fig, ax = plt.subplots(1, 5, figsize=(15, 5))\n",
        "  for i in range(5):\n",
        "    img = Image.open(os.path.join(class_dir, images_sample[i]))\n",
        "    ax[i].imshow(img)\n",
        "    ax[i].axis(\"off\")\n",
        "  plt.show()\n"
      ],
      "metadata": {
        "id": "SoVnpekT2FJx"
      },
      "id": "SoVnpekT2FJx",
      "execution_count": 9,
      "outputs": []
    },
    {
      "cell_type": "code",
      "source": [
        "sample_images(train_dir, \"happy\")"
      ],
      "metadata": {
        "colab": {
          "base_uri": "https://localhost:8080/",
          "height": 141
        },
        "id": "WW8rBTiy3nIy",
        "outputId": "f5353713-de10-4917-f8d3-9a3908e4c090"
      },
      "id": "WW8rBTiy3nIy",
      "execution_count": 56,
      "outputs": [
        {
          "output_type": "display_data",
          "data": {
            "text/plain": [
              "<Figure size 1500x500 with 5 Axes>"
            ],
            "image/png": "[encoded data removed]"
          },
          "metadata": {}
        }
      ]
    },
    {
      "cell_type": "markdown",
      "source": [
        "### **DATA TRANSFORMATION**"
      ],
      "metadata": {
        "id": "ILw16E41iZzr"
      },
      "id": "ILw16E41iZzr"
    },
    {
      "cell_type": "markdown",
      "source": [
        "We'll preprocess the images using transforms.compose pipeline. The steps include;\n",
        "\n",
        "\n",
        "1. The images to be converted to RGB format.\n",
        "2. Resize images to height and width of 224, 224.\n",
        "3. Convert the images to pytorch tensors."
      ],
      "metadata": {
        "id": "pfwgH8FBxc_B"
      },
      "id": "pfwgH8FBxc_B"
    },
    {
      "cell_type": "code",
      "source": [
        "class ConvertToRGB:\n",
        "  def __call__(self, img):\n",
        "    if img != \"RGB\":\n",
        "      img = img.convert(\"RGB\")\n",
        "    return img"
      ],
      "metadata": {
        "id": "79yJGh7DxXP4"
      },
      "id": "79yJGh7DxXP4",
      "execution_count": 10,
      "outputs": []
    },
    {
      "cell_type": "code",
      "source": [
        "transform = transforms.Compose([\n",
        "    ConvertToRGB(),\n",
        "    transforms.Resize((224, 224)),\n",
        "    transforms.ToTensor()\n",
        "])\n",
        "train_dataset = datasets.ImageFolder(train_dir, transform=transform)\n",
        "val_dataset = datasets.ImageFolder(val_dir, transform=transform)\n",
        "\n",
        "train_loader = DataLoader(train_dataset, batch_size=32, shuffle=True)\n",
        "val_loader = DataLoader(val_dataset, batch_size=32, shuffle=True)"
      ],
      "metadata": {
        "id": "0z64lNboxznz"
      },
      "id": "0z64lNboxznz",
      "execution_count": 11,
      "outputs": []
    },
    {
      "cell_type": "markdown",
      "source": [
        "**NORMALIZE**"
      ],
      "metadata": {
        "id": "8WNQ_Zr9rF0f"
      },
      "id": "8WNQ_Zr9rF0f"
    },
    {
      "cell_type": "markdown",
      "source": [
        "Normalization scales the mean and std of the color channels to a standard value."
      ],
      "metadata": {
        "id": "q-X71-HWrPe-"
      },
      "id": "q-X71-HWrPe-"
    },
    {
      "cell_type": "code",
      "source": [
        "def fetch_mean_std(loader):\n",
        "  \"\"\"Calculates the mean and std of each color channel\"\"\"\n",
        "  channels_sum, channels_squared_sum, num_batches = 0, 0, 0\n",
        "  for data, _ in tqdm(loader, desc=\"Computing mean and std\", leave=False):\n",
        "    channels_sum += torch.mean(data, dim=[0, 2, 3])\n",
        "    channels_squared_sum += torch.mean(data**2, dim=[0, 2, 3])\n",
        "    num_batches += 1\n",
        "\n",
        "  mean = channels_sum / num_batches\n",
        "  std = (channels_squared_sum / num_batches - mean**2)**0.5\n",
        "  return mean, std"
      ],
      "metadata": {
        "id": "_xcPHrvVs9gN"
      },
      "id": "_xcPHrvVs9gN",
      "execution_count": 46,
      "outputs": []
    },
    {
      "cell_type": "code",
      "source": [
        "train_mean, train_std = fetch_mean_std(train_loader)\n",
        "print(train_mean, train_std)"
      ],
      "metadata": {
        "colab": {
          "base_uri": "https://localhost:8080/",
          "height": 34,
          "referenced_widgets": [
            "4983e21c483244f486994337fcda8f62",
            "5f138658963442ab8c78097aa83996b8",
            "20fa938b1b894f97956bce0b7a8d4754",
            "7c10822368b2461995c14fbb13721125",
            "0c2408b96dd549afa5af521f6c860dfe",
            "73cd759dda2c4f2b8f2ca10b91aaf657",
            "c95ac6fb55c547359f49dea14dd2410e",
            "e55d551616bb4ccbb0277967516d5336",
            "b897e9e50c134d5cb6d648129fb6e47b",
            "f336d347f10d445d9f79441cdbb512f0",
            "f94cb7447f1c44a3bf951b95e58a9744"
          ]
        },
        "id": "nRUobQGrvOAl",
        "outputId": "1eaa9891-940c-4afc-bf77-fcbcd048adae"
      },
      "id": "nRUobQGrvOAl",
      "execution_count": 47,
      "outputs": [
        {
          "output_type": "display_data",
          "data": {
            "text/plain": [
              "Computing mean and std:   0%|          | 0/213 [00:00<?, ?it/s]"
            ],
            "application/vnd.jupyter.widget-view+json": {
              "version_major": 2,
              "version_minor": 0,
              "model_id": "4983e21c483244f486994337fcda8f62"
            }
          },
          "metadata": {}
        },
        {
          "output_type": "stream",
          "name": "stdout",
          "text": [
            "tensor([-0.0005, -0.0005, -0.0005]) tensor([0.9998, 0.9998, 0.9998])\n"
          ]
        }
      ]
    },
    {
      "cell_type": "code",
      "source": [
        "val_mean, val_std = fetch_mean_std(val_loader)\n",
        "print(val_mean, val_std)"
      ],
      "metadata": {
        "colab": {
          "base_uri": "https://localhost:8080/",
          "height": 66,
          "referenced_widgets": [
            "f4fa3cf2e5164774ac24c1e25d8b646b",
            "3039d05b3bad43cfaf040e87e189fd16",
            "f9bc7b647ffa471a9058d78eaade3e8f",
            "a6949e47a39b4b269dbcf9e6d1b721ce",
            "047a1611ac2b4d1f9dea7b98e60567d5",
            "a9e084b72f4e4cbfb952ebefbacfcd14",
            "c6c8a7c61a6c42d395720c34ac68dec6",
            "adb13471846b47e9aafe8f418f6b1236",
            "3dc29a940a3d4313b91e433b9fe4589e",
            "8a2a4531acc643c28394bdbce4087cc9",
            "2fe8e4e54f7a48bbb3b55f7e0b41df04"
          ]
        },
        "id": "Ahh3OB8vtIgC",
        "outputId": "a54f534c-4ae0-4692-99c9-446931ca96b2"
      },
      "id": "Ahh3OB8vtIgC",
      "execution_count": 14,
      "outputs": [
        {
          "output_type": "display_data",
          "data": {
            "text/plain": [
              "  0%|          | 0/72 [00:00<?, ?it/s]"
            ],
            "application/vnd.jupyter.widget-view+json": {
              "version_major": 2,
              "version_minor": 0,
              "model_id": "f4fa3cf2e5164774ac24c1e25d8b646b"
            }
          },
          "metadata": {}
        },
        {
          "output_type": "stream",
          "name": "stdout",
          "text": [
            "tensor([0.4430, 0.4430, 0.4430]) tensor([0.2392, 0.2392, 0.2392])\n"
          ]
        }
      ]
    },
    {
      "cell_type": "markdown",
      "source": [
        "**TRANSFORMS WITH NORMALIZATION**"
      ],
      "metadata": {
        "id": "NRFC5cp4yYxH"
      },
      "id": "NRFC5cp4yYxH"
    },
    {
      "cell_type": "code",
      "source": [
        "train_transform = transforms.Compose([\n",
        "    ConvertToRGB(),\n",
        "    transforms.Resize((224, 224)),\n",
        "    transforms.ToTensor(),\n",
        "    transforms.Normalize(train_mean, train_std)\n",
        "])\n",
        "val_transorm = transforms.Compose([\n",
        "    ConvertToRGB(),\n",
        "    transforms.Resize((224, 224)),\n",
        "    transforms.ToTensor(),\n",
        "    transforms.Normalize(val_mean, val_std)\n",
        "])"
      ],
      "metadata": {
        "id": "A0RRsk4znzy9"
      },
      "id": "A0RRsk4znzy9",
      "execution_count": 17,
      "outputs": []
    },
    {
      "cell_type": "markdown",
      "source": [
        "**IMAGE FOLDER**"
      ],
      "metadata": {
        "id": "rzuWGKkBiq0A"
      },
      "id": "rzuWGKkBiq0A"
    },
    {
      "cell_type": "code",
      "source": [
        "train_dataset = datasets.ImageFolder(train_dir, transform=train_transform)\n",
        "print(train_dataset)"
      ],
      "metadata": {
        "colab": {
          "base_uri": "https://localhost:8080/"
        },
        "id": "Ag2KBj3GiQ8L",
        "outputId": "7abe8a7a-c90d-46aa-942a-9440e993cb72"
      },
      "id": "Ag2KBj3GiQ8L",
      "execution_count": 18,
      "outputs": [
        {
          "output_type": "stream",
          "name": "stdout",
          "text": [
            "Dataset ImageFolder\n",
            "    Number of datapoints: 6799\n",
            "    Root location: /content/dataset/Emotions Dataset/Emotions Dataset/train\n",
            "    StandardTransform\n",
            "Transform: Compose(\n",
            "               <__main__.ConvertToRGB object at 0x7e32004a55d0>\n",
            "               Resize(size=(224, 224), interpolation=bilinear, max_size=None, antialias=True)\n",
            "               ToTensor()\n",
            "               Normalize(mean=tensor([0.4374, 0.4374, 0.4374]), std=tensor([0.2362, 0.2362, 0.2362]))\n",
            "           )\n"
          ]
        }
      ]
    },
    {
      "cell_type": "code",
      "source": [
        "val_dataset = datasets.ImageFolder(val_dir, transform=val_transorm)\n",
        "print(val_dataset)"
      ],
      "metadata": {
        "colab": {
          "base_uri": "https://localhost:8080/"
        },
        "id": "tDTz2O84ohts",
        "outputId": "19e613be-2cc5-4cf0-8fc5-f1c58fcf9529"
      },
      "id": "tDTz2O84ohts",
      "execution_count": 20,
      "outputs": [
        {
          "output_type": "stream",
          "name": "stdout",
          "text": [
            "Dataset ImageFolder\n",
            "    Number of datapoints: 2278\n",
            "    Root location: /content/dataset/Emotions Dataset/Emotions Dataset/test\n",
            "    StandardTransform\n",
            "Transform: Compose(\n",
            "               <__main__.ConvertToRGB object at 0x7e32004a4610>\n",
            "               Resize(size=(224, 224), interpolation=bilinear, max_size=None, antialias=True)\n",
            "               ToTensor()\n",
            "               Normalize(mean=tensor([0.4430, 0.4430, 0.4430]), std=tensor([0.2392, 0.2392, 0.2392]))\n",
            "           )\n"
          ]
        }
      ]
    },
    {
      "cell_type": "code",
      "source": [
        "fetch_mean_std(train_loader)"
      ],
      "metadata": {
        "colab": {
          "base_uri": "https://localhost:8080/",
          "height": 66,
          "referenced_widgets": [
            "d156e19dc60b44608d32610a55c2afb4",
            "5acc75c797bb4b858cb2cc5ca7061000",
            "82f1a7305d024aaab3d830a6d5833892",
            "0ef42a739a8d4f72ab7096c897feae15",
            "aafa540b1c244f8abd39128e0bed375a",
            "a1bef7a06e5d493eaefc9c02352f1bd7",
            "d10f21c7887b489780c9bbccc99d30ee",
            "63575829c5b24df7be282c6a694bec2a",
            "3eb5d5be03cf4a5cbdf135d835a356c5",
            "0773f7de6bea4003bb836b903f22678b",
            "3dac7b2c5c3544809563743a6e996f9a"
          ]
        },
        "id": "l84bN-8VzWux",
        "outputId": "e45f2418-1a21-41d4-f863-bb20cd6e7bc1"
      },
      "id": "l84bN-8VzWux",
      "execution_count": 23,
      "outputs": [
        {
          "output_type": "display_data",
          "data": {
            "text/plain": [
              "  0%|          | 0/213 [00:00<?, ?it/s]"
            ],
            "application/vnd.jupyter.widget-view+json": {
              "version_major": 2,
              "version_minor": 0,
              "model_id": "d156e19dc60b44608d32610a55c2afb4"
            }
          },
          "metadata": {}
        },
        {
          "output_type": "execute_result",
          "data": {
            "text/plain": [
              "(tensor([-0.0003, -0.0003, -0.0003]), tensor([0.9999, 0.9999, 0.9999]))"
            ]
          },
          "metadata": {},
          "execution_count": 23
        }
      ]
    },
    {
      "cell_type": "markdown",
      "source": [
        "**DATA LOADER**"
      ],
      "metadata": {
        "id": "z4GauUdbtfVk"
      },
      "id": "z4GauUdbtfVk"
    },
    {
      "cell_type": "code",
      "source": [
        "train_loader = DataLoader(train_dataset, batch_size=32, shuffle=True)\n",
        "val_loader = DataLoader(val_dataset, batch_size=32, shuffle=True)"
      ],
      "metadata": {
        "id": "T-fjlrrXo-Tj"
      },
      "id": "T-fjlrrXo-Tj",
      "execution_count": 22,
      "outputs": []
    },
    {
      "cell_type": "code",
      "source": [
        "next_batch = next(iter(train_loader))\n",
        "print(next_batch[0].shape)"
      ],
      "metadata": {
        "colab": {
          "base_uri": "https://localhost:8080/"
        },
        "id": "5Jcz6npCu3uP",
        "outputId": "856447f5-efc1-4750-9f41-b6ea7e4c9920"
      },
      "id": "5Jcz6npCu3uP",
      "execution_count": 24,
      "outputs": [
        {
          "output_type": "stream",
          "name": "stdout",
          "text": [
            "torch.Size([32, 3, 224, 224])\n"
          ]
        }
      ]
    },
    {
      "cell_type": "code",
      "source": [
        "next_batch = next(iter(val_loader))\n",
        "print(next_batch[0].shape)"
      ],
      "metadata": {
        "colab": {
          "base_uri": "https://localhost:8080/"
        },
        "id": "hOI1-RfGu-la",
        "outputId": "466e048d-5a1a-40d1-b0ad-63fc47d420db"
      },
      "id": "hOI1-RfGu-la",
      "execution_count": 25,
      "outputs": [
        {
          "output_type": "stream",
          "name": "stdout",
          "text": [
            "torch.Size([32, 3, 224, 224])\n"
          ]
        }
      ]
    },
    {
      "cell_type": "markdown",
      "source": [
        "**CLASS BALANCE**"
      ],
      "metadata": {
        "id": "mVremEIH0BBb"
      },
      "id": "mVremEIH0BBb"
    },
    {
      "cell_type": "code",
      "source": [
        "def class_counts(dataset):\n",
        "  # Get class labels\n",
        "  c = Counter(x[1] for x in tqdm(dataset))\n",
        "  # Access the mapping from class names\n",
        "  class_to_index = dataset.class_to_idx\n",
        "\n",
        "  return pd.Series({cat: c[i] for cat, i in class_to_index.items()})"
      ],
      "metadata": {
        "id": "q59iphI4z_om"
      },
      "id": "q59iphI4z_om",
      "execution_count": 26,
      "outputs": []
    },
    {
      "cell_type": "markdown",
      "source": [
        "**TRAIN DISTRIBUTION**"
      ],
      "metadata": {
        "id": "9-ua9czs-Cjk"
      },
      "id": "9-ua9czs-Cjk"
    },
    {
      "cell_type": "code",
      "source": [
        "train_distribution = class_counts(train_dataset)\n",
        "train_distribution.sort_values().plot(kind=\"bar\")\n",
        "plt.xlabel(\"Class\")\n",
        "plt.ylabel(\"Count\")\n",
        "plt.title(\"Train Distribution\")\n",
        "plt.show();"
      ],
      "metadata": {
        "colab": {
          "base_uri": "https://localhost:8080/",
          "height": 533,
          "referenced_widgets": [
            "1178a938ee694eadbac5a48a48eeb3f3",
            "37d98837a24a4986ae8f03e42452a627",
            "6843180057174efb877bb8c1c8d02af0",
            "d4c8fc1c2f75488e88bf3c7952fbf871",
            "fb26ea0808b941b3ad21aa0d7e8b59b3",
            "8574e278b3a247e78dcb68c81870f560",
            "623508e9789c4190b22458650cb62ec1",
            "b743851c101e4e3f80730084ec3e5b87",
            "47c82ea1c03d4c70810a2dc52d542c91",
            "3a0c10329b7b45f2aca962448adb17d8",
            "b667e300eeaf42b385caa60be10c1b32"
          ]
        },
        "id": "oTwf-i_lqekw",
        "outputId": "f3559a2d-5ebb-4549-8ba9-419d4443b15e"
      },
      "id": "oTwf-i_lqekw",
      "execution_count": 27,
      "outputs": [
        {
          "output_type": "display_data",
          "data": {
            "text/plain": [
              "  0%|          | 0/6799 [00:00<?, ?it/s]"
            ],
            "application/vnd.jupyter.widget-view+json": {
              "version_major": 2,
              "version_minor": 0,
              "model_id": "1178a938ee694eadbac5a48a48eeb3f3"
            }
          },
          "metadata": {}
        },
        {
          "output_type": "display_data",
          "data": {
            "text/plain": [
              "<Figure size 640x480 with 1 Axes>"
            ],
            "image/png": "[encoded data removed]"
          },
          "metadata": {}
        }
      ]
    },
    {
      "cell_type": "markdown",
      "source": [
        "**VAL DISTRIBUTION**"
      ],
      "metadata": {
        "id": "s-5QgrfK_B1l"
      },
      "id": "s-5QgrfK_B1l"
    },
    {
      "cell_type": "code",
      "source": [
        "val_distribution = class_counts(val_dataset)\n",
        "val_distribution.sort_values().plot(kind=\"bar\")\n",
        "plt.xlabel(\"Class\")\n",
        "plt.ylabel(\"Count\")\n",
        "plt.title(\"Val Distribution\")\n",
        "plt.show();"
      ],
      "metadata": {
        "colab": {
          "base_uri": "https://localhost:8080/",
          "height": 533,
          "referenced_widgets": [
            "c1a230a9032a4d5b83b9adbc0893d916",
            "9f58081599cc42fc870ec4a6e65bcdde",
            "053be316380d4ef08ed87587e3311aa8",
            "96b09cd5a2804435a1f0ae63b503e44a",
            "1540267113f74b968907dd3fa62ad880",
            "d67b4c0f9a81401eaaa8faaf14b59d9e",
            "430cd3300f4d42dfb457eb99158b7898",
            "28ba71495b8c4fe89b8ee17d4916e79b",
            "2b10159f0b464e1188fe523d1a048962",
            "5a196ed976e64bb3a3846caf10e189c8",
            "98f4cf5d462e4195b256a026131324a5"
          ]
        },
        "id": "lQ4OK3Fw-eFb",
        "outputId": "159f05ef-9ae5-4a5e-907e-11800db8a659"
      },
      "id": "lQ4OK3Fw-eFb",
      "execution_count": 28,
      "outputs": [
        {
          "output_type": "display_data",
          "data": {
            "text/plain": [
              "  0%|          | 0/2278 [00:00<?, ?it/s]"
            ],
            "application/vnd.jupyter.widget-view+json": {
              "version_major": 2,
              "version_minor": 0,
              "model_id": "c1a230a9032a4d5b83b9adbc0893d916"
            }
          },
          "metadata": {}
        },
        {
          "output_type": "display_data",
          "data": {
            "text/plain": [
              "<Figure size 640x480 with 1 Axes>"
            ],
            "image/png": "[encoded data removed]"
          },
          "metadata": {}
        }
      ]
    },
    {
      "cell_type": "markdown",
      "source": [
        "## **IMPLEMENTING TRANSFER LEARNING**"
      ],
      "metadata": {
        "id": "yNZVqUhXAU07"
      },
      "id": "yNZVqUhXAU07"
    },
    {
      "cell_type": "markdown",
      "source": [
        "**RESNET 50 DEFINITION**"
      ],
      "metadata": {
        "id": "WTX5ryTMAozu"
      },
      "id": "WTX5ryTMAozu"
    },
    {
      "cell_type": "code",
      "source": [
        "model = torchvision.models.resnet50(weights=torchvision.models.ResNet50_Weights.DEFAULT)"
      ],
      "metadata": {
        "colab": {
          "base_uri": "https://localhost:8080/"
        },
        "id": "sMegTqPX_lgo",
        "outputId": "456fe1d8-1d55-4561-c878-69ac126eea82"
      },
      "id": "sMegTqPX_lgo",
      "execution_count": 29,
      "outputs": [
        {
          "output_type": "stream",
          "name": "stderr",
          "text": [
            "Downloading: \"https://download.pytorch.org/models/resnet50-11ad3fa6.pth\" to /root/.cache/torch/hub/checkpoints/resnet50-11ad3fa6.pth\n",
            "100%|██████████| 97.8M/97.8M [00:00<00:00, 129MB/s]\n"
          ]
        }
      ]
    },
    {
      "cell_type": "code",
      "source": [
        "summary(model, input_size=(32, 3, 224, 224))"
      ],
      "metadata": {
        "colab": {
          "base_uri": "https://localhost:8080/"
        },
        "id": "jzPBpIQpBg_U",
        "outputId": "4a5a2fa0-8887-471f-dfc2-a02fd96999eb"
      },
      "id": "jzPBpIQpBg_U",
      "execution_count": 30,
      "outputs": [
        {
          "output_type": "execute_result",
          "data": {
            "text/plain": [
              "==========================================================================================\n",
              "Layer (type:depth-idx)                   Output Shape              Param #\n",
              "==========================================================================================\n",
              "ResNet                                   [32, 1000]                --\n",
              "├─Conv2d: 1-1                            [32, 64, 112, 112]        9,408\n",
              "├─BatchNorm2d: 1-2                       [32, 64, 112, 112]        128\n",
              "├─ReLU: 1-3                              [32, 64, 112, 112]        --\n",
              "├─MaxPool2d: 1-4                         [32, 64, 56, 56]          --\n",
              "├─Sequential: 1-5                        [32, 256, 56, 56]         --\n",
              "│    └─Bottleneck: 2-1                   [32, 256, 56, 56]         --\n",
              "│    │    └─Conv2d: 3-1                  [32, 64, 56, 56]          4,096\n",
              "│    │    └─BatchNorm2d: 3-2             [32, 64, 56, 56]          128\n",
              "│    │    └─ReLU: 3-3                    [32, 64, 56, 56]          --\n",
              "│    │    └─Conv2d: 3-4                  [32, 64, 56, 56]          36,864\n",
              "│    │    └─BatchNorm2d: 3-5             [32, 64, 56, 56]          128\n",
              "│    │    └─ReLU: 3-6                    [32, 64, 56, 56]          --\n",
              "│    │    └─Conv2d: 3-7                  [32, 256, 56, 56]         16,384\n",
              "│    │    └─BatchNorm2d: 3-8             [32, 256, 56, 56]         512\n",
              "│    │    └─Sequential: 3-9              [32, 256, 56, 56]         16,896\n",
              "│    │    └─ReLU: 3-10                   [32, 256, 56, 56]         --\n",
              "│    └─Bottleneck: 2-2                   [32, 256, 56, 56]         --\n",
              "│    │    └─Conv2d: 3-11                 [32, 64, 56, 56]          16,384\n",
              "│    │    └─BatchNorm2d: 3-12            [32, 64, 56, 56]          128\n",
              "│    │    └─ReLU: 3-13                   [32, 64, 56, 56]          --\n",
              "│    │    └─Conv2d: 3-14                 [32, 64, 56, 56]          36,864\n",
              "│    │    └─BatchNorm2d: 3-15            [32, 64, 56, 56]          128\n",
              "│    │    └─ReLU: 3-16                   [32, 64, 56, 56]          --\n",
              "│    │    └─Conv2d: 3-17                 [32, 256, 56, 56]         16,384\n",
              "│    │    └─BatchNorm2d: 3-18            [32, 256, 56, 56]         512\n",
              "│    │    └─ReLU: 3-19                   [32, 256, 56, 56]         --\n",
              "│    └─Bottleneck: 2-3                   [32, 256, 56, 56]         --\n",
              "│    │    └─Conv2d: 3-20                 [32, 64, 56, 56]          16,384\n",
              "│    │    └─BatchNorm2d: 3-21            [32, 64, 56, 56]          128\n",
              "│    │    └─ReLU: 3-22                   [32, 64, 56, 56]          --\n",
              "│    │    └─Conv2d: 3-23                 [32, 64, 56, 56]          36,864\n",
              "│    │    └─BatchNorm2d: 3-24            [32, 64, 56, 56]          128\n",
              "│    │    └─ReLU: 3-25                   [32, 64, 56, 56]          --\n",
              "│    │    └─Conv2d: 3-26                 [32, 256, 56, 56]         16,384\n",
              "│    │    └─BatchNorm2d: 3-27            [32, 256, 56, 56]         512\n",
              "│    │    └─ReLU: 3-28                   [32, 256, 56, 56]         --\n",
              "├─Sequential: 1-6                        [32, 512, 28, 28]         --\n",
              "│    └─Bottleneck: 2-4                   [32, 512, 28, 28]         --\n",
              "│    │    └─Conv2d: 3-29                 [32, 128, 56, 56]         32,768\n",
              "│    │    └─BatchNorm2d: 3-30            [32, 128, 56, 56]         256\n",
              "│    │    └─ReLU: 3-31                   [32, 128, 56, 56]         --\n",
              "│    │    └─Conv2d: 3-32                 [32, 128, 28, 28]         147,456\n",
              "│    │    └─BatchNorm2d: 3-33            [32, 128, 28, 28]         256\n",
              "│    │    └─ReLU: 3-34                   [32, 128, 28, 28]         --\n",
              "│    │    └─Conv2d: 3-35                 [32, 512, 28, 28]         65,536\n",
              "│    │    └─BatchNorm2d: 3-36            [32, 512, 28, 28]         1,024\n",
              "│    │    └─Sequential: 3-37             [32, 512, 28, 28]         132,096\n",
              "│    │    └─ReLU: 3-38                   [32, 512, 28, 28]         --\n",
              "│    └─Bottleneck: 2-5                   [32, 512, 28, 28]         --\n",
              "│    │    └─Conv2d: 3-39                 [32, 128, 28, 28]         65,536\n",
              "│    │    └─BatchNorm2d: 3-40            [32, 128, 28, 28]         256\n",
              "│    │    └─ReLU: 3-41                   [32, 128, 28, 28]         --\n",
              "│    │    └─Conv2d: 3-42                 [32, 128, 28, 28]         147,456\n",
              "│    │    └─BatchNorm2d: 3-43            [32, 128, 28, 28]         256\n",
              "│    │    └─ReLU: 3-44                   [32, 128, 28, 28]         --\n",
              "│    │    └─Conv2d: 3-45                 [32, 512, 28, 28]         65,536\n",
              "│    │    └─BatchNorm2d: 3-46            [32, 512, 28, 28]         1,024\n",
              "│    │    └─ReLU: 3-47                   [32, 512, 28, 28]         --\n",
              "│    └─Bottleneck: 2-6                   [32, 512, 28, 28]         --\n",
              "│    │    └─Conv2d: 3-48                 [32, 128, 28, 28]         65,536\n",
              "│    │    └─BatchNorm2d: 3-49            [32, 128, 28, 28]         256\n",
              "│    │    └─ReLU: 3-50                   [32, 128, 28, 28]         --\n",
              "│    │    └─Conv2d: 3-51                 [32, 128, 28, 28]         147,456\n",
              "│    │    └─BatchNorm2d: 3-52            [32, 128, 28, 28]         256\n",
              "│    │    └─ReLU: 3-53                   [32, 128, 28, 28]         --\n",
              "│    │    └─Conv2d: 3-54                 [32, 512, 28, 28]         65,536\n",
              "│    │    └─BatchNorm2d: 3-55            [32, 512, 28, 28]         1,024\n",
              "│    │    └─ReLU: 3-56                   [32, 512, 28, 28]         --\n",
              "│    └─Bottleneck: 2-7                   [32, 512, 28, 28]         --\n",
              "│    │    └─Conv2d: 3-57                 [32, 128, 28, 28]         65,536\n",
              "│    │    └─BatchNorm2d: 3-58            [32, 128, 28, 28]         256\n",
              "│    │    └─ReLU: 3-59                   [32, 128, 28, 28]         --\n",
              "│    │    └─Conv2d: 3-60                 [32, 128, 28, 28]         147,456\n",
              "│    │    └─BatchNorm2d: 3-61            [32, 128, 28, 28]         256\n",
              "│    │    └─ReLU: 3-62                   [32, 128, 28, 28]         --\n",
              "│    │    └─Conv2d: 3-63                 [32, 512, 28, 28]         65,536\n",
              "│    │    └─BatchNorm2d: 3-64            [32, 512, 28, 28]         1,024\n",
              "│    │    └─ReLU: 3-65                   [32, 512, 28, 28]         --\n",
              "├─Sequential: 1-7                        [32, 1024, 14, 14]        --\n",
              "│    └─Bottleneck: 2-8                   [32, 1024, 14, 14]        --\n",
              "│    │    └─Conv2d: 3-66                 [32, 256, 28, 28]         131,072\n",
              "│    │    └─BatchNorm2d: 3-67            [32, 256, 28, 28]         512\n",
              "│    │    └─ReLU: 3-68                   [32, 256, 28, 28]         --\n",
              "│    │    └─Conv2d: 3-69                 [32, 256, 14, 14]         589,824\n",
              "│    │    └─BatchNorm2d: 3-70            [32, 256, 14, 14]         512\n",
              "│    │    └─ReLU: 3-71                   [32, 256, 14, 14]         --\n",
              "│    │    └─Conv2d: 3-72                 [32, 1024, 14, 14]        262,144\n",
              "│    │    └─BatchNorm2d: 3-73            [32, 1024, 14, 14]        2,048\n",
              "│    │    └─Sequential: 3-74             [32, 1024, 14, 14]        526,336\n",
              "│    │    └─ReLU: 3-75                   [32, 1024, 14, 14]        --\n",
              "│    └─Bottleneck: 2-9                   [32, 1024, 14, 14]        --\n",
              "│    │    └─Conv2d: 3-76                 [32, 256, 14, 14]         262,144\n",
              "│    │    └─BatchNorm2d: 3-77            [32, 256, 14, 14]         512\n",
              "│    │    └─ReLU: 3-78                   [32, 256, 14, 14]         --\n",
              "│    │    └─Conv2d: 3-79                 [32, 256, 14, 14]         589,824\n",
              "│    │    └─BatchNorm2d: 3-80            [32, 256, 14, 14]         512\n",
              "│    │    └─ReLU: 3-81                   [32, 256, 14, 14]         --\n",
              "│    │    └─Conv2d: 3-82                 [32, 1024, 14, 14]        262,144\n",
              "│    │    └─BatchNorm2d: 3-83            [32, 1024, 14, 14]        2,048\n",
              "│    │    └─ReLU: 3-84                   [32, 1024, 14, 14]        --\n",
              "│    └─Bottleneck: 2-10                  [32, 1024, 14, 14]        --\n",
              "│    │    └─Conv2d: 3-85                 [32, 256, 14, 14]         262,144\n",
              "│    │    └─BatchNorm2d: 3-86            [32, 256, 14, 14]         512\n",
              "│    │    └─ReLU: 3-87                   [32, 256, 14, 14]         --\n",
              "│    │    └─Conv2d: 3-88                 [32, 256, 14, 14]         589,824\n",
              "│    │    └─BatchNorm2d: 3-89            [32, 256, 14, 14]         512\n",
              "│    │    └─ReLU: 3-90                   [32, 256, 14, 14]         --\n",
              "│    │    └─Conv2d: 3-91                 [32, 1024, 14, 14]        262,144\n",
              "│    │    └─BatchNorm2d: 3-92            [32, 1024, 14, 14]        2,048\n",
              "│    │    └─ReLU: 3-93                   [32, 1024, 14, 14]        --\n",
              "│    └─Bottleneck: 2-11                  [32, 1024, 14, 14]        --\n",
              "│    │    └─Conv2d: 3-94                 [32, 256, 14, 14]         262,144\n",
              "│    │    └─BatchNorm2d: 3-95            [32, 256, 14, 14]         512\n",
              "│    │    └─ReLU: 3-96                   [32, 256, 14, 14]         --\n",
              "│    │    └─Conv2d: 3-97                 [32, 256, 14, 14]         589,824\n",
              "│    │    └─BatchNorm2d: 3-98            [32, 256, 14, 14]         512\n",
              "│    │    └─ReLU: 3-99                   [32, 256, 14, 14]         --\n",
              "│    │    └─Conv2d: 3-100                [32, 1024, 14, 14]        262,144\n",
              "│    │    └─BatchNorm2d: 3-101           [32, 1024, 14, 14]        2,048\n",
              "│    │    └─ReLU: 3-102                  [32, 1024, 14, 14]        --\n",
              "│    └─Bottleneck: 2-12                  [32, 1024, 14, 14]        --\n",
              "│    │    └─Conv2d: 3-103                [32, 256, 14, 14]         262,144\n",
              "│    │    └─BatchNorm2d: 3-104           [32, 256, 14, 14]         512\n",
              "│    │    └─ReLU: 3-105                  [32, 256, 14, 14]         --\n",
              "│    │    └─Conv2d: 3-106                [32, 256, 14, 14]         589,824\n",
              "│    │    └─BatchNorm2d: 3-107           [32, 256, 14, 14]         512\n",
              "│    │    └─ReLU: 3-108                  [32, 256, 14, 14]         --\n",
              "│    │    └─Conv2d: 3-109                [32, 1024, 14, 14]        262,144\n",
              "│    │    └─BatchNorm2d: 3-110           [32, 1024, 14, 14]        2,048\n",
              "│    │    └─ReLU: 3-111                  [32, 1024, 14, 14]        --\n",
              "│    └─Bottleneck: 2-13                  [32, 1024, 14, 14]        --\n",
              "│    │    └─Conv2d: 3-112                [32, 256, 14, 14]         262,144\n",
              "│    │    └─BatchNorm2d: 3-113           [32, 256, 14, 14]         512\n",
              "│    │    └─ReLU: 3-114                  [32, 256, 14, 14]         --\n",
              "│    │    └─Conv2d: 3-115                [32, 256, 14, 14]         589,824\n",
              "│    │    └─BatchNorm2d: 3-116           [32, 256, 14, 14]         512\n",
              "│    │    └─ReLU: 3-117                  [32, 256, 14, 14]         --\n",
              "│    │    └─Conv2d: 3-118                [32, 1024, 14, 14]        262,144\n",
              "│    │    └─BatchNorm2d: 3-119           [32, 1024, 14, 14]        2,048\n",
              "│    │    └─ReLU: 3-120                  [32, 1024, 14, 14]        --\n",
              "├─Sequential: 1-8                        [32, 2048, 7, 7]          --\n",
              "│    └─Bottleneck: 2-14                  [32, 2048, 7, 7]          --\n",
              "│    │    └─Conv2d: 3-121                [32, 512, 14, 14]         524,288\n",
              "│    │    └─BatchNorm2d: 3-122           [32, 512, 14, 14]         1,024\n",
              "│    │    └─ReLU: 3-123                  [32, 512, 14, 14]         --\n",
              "│    │    └─Conv2d: 3-124                [32, 512, 7, 7]           2,359,296\n",
              "│    │    └─BatchNorm2d: 3-125           [32, 512, 7, 7]           1,024\n",
              "│    │    └─ReLU: 3-126                  [32, 512, 7, 7]           --\n",
              "│    │    └─Conv2d: 3-127                [32, 2048, 7, 7]          1,048,576\n",
              "│    │    └─BatchNorm2d: 3-128           [32, 2048, 7, 7]          4,096\n",
              "│    │    └─Sequential: 3-129            [32, 2048, 7, 7]          2,101,248\n",
              "│    │    └─ReLU: 3-130                  [32, 2048, 7, 7]          --\n",
              "│    └─Bottleneck: 2-15                  [32, 2048, 7, 7]          --\n",
              "│    │    └─Conv2d: 3-131                [32, 512, 7, 7]           1,048,576\n",
              "│    │    └─BatchNorm2d: 3-132           [32, 512, 7, 7]           1,024\n",
              "│    │    └─ReLU: 3-133                  [32, 512, 7, 7]           --\n",
              "│    │    └─Conv2d: 3-134                [32, 512, 7, 7]           2,359,296\n",
              "│    │    └─BatchNorm2d: 3-135           [32, 512, 7, 7]           1,024\n",
              "│    │    └─ReLU: 3-136                  [32, 512, 7, 7]           --\n",
              "│    │    └─Conv2d: 3-137                [32, 2048, 7, 7]          1,048,576\n",
              "│    │    └─BatchNorm2d: 3-138           [32, 2048, 7, 7]          4,096\n",
              "│    │    └─ReLU: 3-139                  [32, 2048, 7, 7]          --\n",
              "│    └─Bottleneck: 2-16                  [32, 2048, 7, 7]          --\n",
              "│    │    └─Conv2d: 3-140                [32, 512, 7, 7]           1,048,576\n",
              "│    │    └─BatchNorm2d: 3-141           [32, 512, 7, 7]           1,024\n",
              "│    │    └─ReLU: 3-142                  [32, 512, 7, 7]           --\n",
              "│    │    └─Conv2d: 3-143                [32, 512, 7, 7]           2,359,296\n",
              "│    │    └─BatchNorm2d: 3-144           [32, 512, 7, 7]           1,024\n",
              "│    │    └─ReLU: 3-145                  [32, 512, 7, 7]           --\n",
              "│    │    └─Conv2d: 3-146                [32, 2048, 7, 7]          1,048,576\n",
              "│    │    └─BatchNorm2d: 3-147           [32, 2048, 7, 7]          4,096\n",
              "│    │    └─ReLU: 3-148                  [32, 2048, 7, 7]          --\n",
              "├─AdaptiveAvgPool2d: 1-9                 [32, 2048, 1, 1]          --\n",
              "├─Linear: 1-10                           [32, 1000]                2,049,000\n",
              "==========================================================================================\n",
              "Total params: 25,557,032\n",
              "Trainable params: 25,557,032\n",
              "Non-trainable params: 0\n",
              "Total mult-adds (Units.GIGABYTES): 130.86\n",
              "==========================================================================================\n",
              "Input size (MB): 19.27\n",
              "Forward/backward pass size (MB): 5690.62\n",
              "Params size (MB): 102.23\n",
              "Estimated Total Size (MB): 5812.11\n",
              "=========================================================================================="
            ]
          },
          "metadata": {},
          "execution_count": 30
        }
      ]
    },
    {
      "cell_type": "markdown",
      "source": [
        "**TURN OFF BACK PROPAGATION**"
      ],
      "metadata": {
        "id": "CMFWMLGTHE2P"
      },
      "id": "CMFWMLGTHE2P"
    },
    {
      "cell_type": "code",
      "source": [
        "for params in model.parameters():\n",
        "  params.requires_grad = False"
      ],
      "metadata": {
        "id": "Q9yeG-zQHV0v"
      },
      "id": "Q9yeG-zQHV0v",
      "execution_count": 31,
      "outputs": []
    },
    {
      "cell_type": "code",
      "source": [
        "# Move the model to device\n",
        "model.to(device)"
      ],
      "metadata": {
        "colab": {
          "base_uri": "https://localhost:8080/"
        },
        "id": "TXUbUkOaHdyn",
        "outputId": "4eb77dc6-bd23-4130-ba1c-a2305ace9a29"
      },
      "id": "TXUbUkOaHdyn",
      "execution_count": 32,
      "outputs": [
        {
          "output_type": "execute_result",
          "data": {
            "text/plain": [
              "ResNet(\n",
              "  (conv1): Conv2d(3, 64, kernel_size=(7, 7), stride=(2, 2), padding=(3, 3), bias=False)\n",
              "  (bn1): BatchNorm2d(64, eps=1e-05, momentum=0.1, affine=True, track_running_stats=True)\n",
              "  (relu): ReLU(inplace=True)\n",
              "  (maxpool): MaxPool2d(kernel_size=3, stride=2, padding=1, dilation=1, ceil_mode=False)\n",
              "  (layer1): Sequential(\n",
              "    (0): Bottleneck(\n",
              "      (conv1): Conv2d(64, 64, kernel_size=(1, 1), stride=(1, 1), bias=False)\n",
              "      (bn1): BatchNorm2d(64, eps=1e-05, momentum=0.1, affine=True, track_running_stats=True)\n",
              "      (conv2): Conv2d(64, 64, kernel_size=(3, 3), stride=(1, 1), padding=(1, 1), bias=False)\n",
              "      (bn2): BatchNorm2d(64, eps=1e-05, momentum=0.1, affine=True, track_running_stats=True)\n",
              "      (conv3): Conv2d(64, 256, kernel_size=(1, 1), stride=(1, 1), bias=False)\n",
              "      (bn3): BatchNorm2d(256, eps=1e-05, momentum=0.1, affine=True, track_running_stats=True)\n",
              "      (relu): ReLU(inplace=True)\n",
              "      (downsample): Sequential(\n",
              "        (0): Conv2d(64, 256, kernel_size=(1, 1), stride=(1, 1), bias=False)\n",
              "        (1): BatchNorm2d(256, eps=1e-05, momentum=0.1, affine=True, track_running_stats=True)\n",
              "      )\n",
              "    )\n",
              "    (1): Bottleneck(\n",
              "      (conv1): Conv2d(256, 64, kernel_size=(1, 1), stride=(1, 1), bias=False)\n",
              "      (bn1): BatchNorm2d(64, eps=1e-05, momentum=0.1, affine=True, track_running_stats=True)\n",
              "      (conv2): Conv2d(64, 64, kernel_size=(3, 3), stride=(1, 1), padding=(1, 1), bias=False)\n",
              "      (bn2): BatchNorm2d(64, eps=1e-05, momentum=0.1, affine=True, track_running_stats=True)\n",
              "      (conv3): Conv2d(64, 256, kernel_size=(1, 1), stride=(1, 1), bias=False)\n",
              "      (bn3): BatchNorm2d(256, eps=1e-05, momentum=0.1, affine=True, track_running_stats=True)\n",
              "      (relu): ReLU(inplace=True)\n",
              "    )\n",
              "    (2): Bottleneck(\n",
              "      (conv1): Conv2d(256, 64, kernel_size=(1, 1), stride=(1, 1), bias=False)\n",
              "      (bn1): BatchNorm2d(64, eps=1e-05, momentum=0.1, affine=True, track_running_stats=True)\n",
              "      (conv2): Conv2d(64, 64, kernel_size=(3, 3), stride=(1, 1), padding=(1, 1), bias=False)\n",
              "      (bn2): BatchNorm2d(64, eps=1e-05, momentum=0.1, affine=True, track_running_stats=True)\n",
              "      (conv3): Conv2d(64, 256, kernel_size=(1, 1), stride=(1, 1), bias=False)\n",
              "      (bn3): BatchNorm2d(256, eps=1e-05, momentum=0.1, affine=True, track_running_stats=True)\n",
              "      (relu): ReLU(inplace=True)\n",
              "    )\n",
              "  )\n",
              "  (layer2): Sequential(\n",
              "    (0): Bottleneck(\n",
              "      (conv1): Conv2d(256, 128, kernel_size=(1, 1), stride=(1, 1), bias=False)\n",
              "      (bn1): BatchNorm2d(128, eps=1e-05, momentum=0.1, affine=True, track_running_stats=True)\n",
              "      (conv2): Conv2d(128, 128, kernel_size=(3, 3), stride=(2, 2), padding=(1, 1), bias=False)\n",
              "      (bn2): BatchNorm2d(128, eps=1e-05, momentum=0.1, affine=True, track_running_stats=True)\n",
              "      (conv3): Conv2d(128, 512, kernel_size=(1, 1), stride=(1, 1), bias=False)\n",
              "      (bn3): BatchNorm2d(512, eps=1e-05, momentum=0.1, affine=True, track_running_stats=True)\n",
              "      (relu): ReLU(inplace=True)\n",
              "      (downsample): Sequential(\n",
              "        (0): Conv2d(256, 512, kernel_size=(1, 1), stride=(2, 2), bias=False)\n",
              "        (1): BatchNorm2d(512, eps=1e-05, momentum=0.1, affine=True, track_running_stats=True)\n",
              "      )\n",
              "    )\n",
              "    (1): Bottleneck(\n",
              "      (conv1): Conv2d(512, 128, kernel_size=(1, 1), stride=(1, 1), bias=False)\n",
              "      (bn1): BatchNorm2d(128, eps=1e-05, momentum=0.1, affine=True, track_running_stats=True)\n",
              "      (conv2): Conv2d(128, 128, kernel_size=(3, 3), stride=(1, 1), padding=(1, 1), bias=False)\n",
              "      (bn2): BatchNorm2d(128, eps=1e-05, momentum=0.1, affine=True, track_running_stats=True)\n",
              "      (conv3): Conv2d(128, 512, kernel_size=(1, 1), stride=(1, 1), bias=False)\n",
              "      (bn3): BatchNorm2d(512, eps=1e-05, momentum=0.1, affine=True, track_running_stats=True)\n",
              "      (relu): ReLU(inplace=True)\n",
              "    )\n",
              "    (2): Bottleneck(\n",
              "      (conv1): Conv2d(512, 128, kernel_size=(1, 1), stride=(1, 1), bias=False)\n",
              "      (bn1): BatchNorm2d(128, eps=1e-05, momentum=0.1, affine=True, track_running_stats=True)\n",
              "      (conv2): Conv2d(128, 128, kernel_size=(3, 3), stride=(1, 1), padding=(1, 1), bias=False)\n",
              "      (bn2): BatchNorm2d(128, eps=1e-05, momentum=0.1, affine=True, track_running_stats=True)\n",
              "      (conv3): Conv2d(128, 512, kernel_size=(1, 1), stride=(1, 1), bias=False)\n",
              "      (bn3): BatchNorm2d(512, eps=1e-05, momentum=0.1, affine=True, track_running_stats=True)\n",
              "      (relu): ReLU(inplace=True)\n",
              "    )\n",
              "    (3): Bottleneck(\n",
              "      (conv1): Conv2d(512, 128, kernel_size=(1, 1), stride=(1, 1), bias=False)\n",
              "      (bn1): BatchNorm2d(128, eps=1e-05, momentum=0.1, affine=True, track_running_stats=True)\n",
              "      (conv2): Conv2d(128, 128, kernel_size=(3, 3), stride=(1, 1), padding=(1, 1), bias=False)\n",
              "      (bn2): BatchNorm2d(128, eps=1e-05, momentum=0.1, affine=True, track_running_stats=True)\n",
              "      (conv3): Conv2d(128, 512, kernel_size=(1, 1), stride=(1, 1), bias=False)\n",
              "      (bn3): BatchNorm2d(512, eps=1e-05, momentum=0.1, affine=True, track_running_stats=True)\n",
              "      (relu): ReLU(inplace=True)\n",
              "    )\n",
              "  )\n",
              "  (layer3): Sequential(\n",
              "    (0): Bottleneck(\n",
              "      (conv1): Conv2d(512, 256, kernel_size=(1, 1), stride=(1, 1), bias=False)\n",
              "      (bn1): BatchNorm2d(256, eps=1e-05, momentum=0.1, affine=True, track_running_stats=True)\n",
              "      (conv2): Conv2d(256, 256, kernel_size=(3, 3), stride=(2, 2), padding=(1, 1), bias=False)\n",
              "      (bn2): BatchNorm2d(256, eps=1e-05, momentum=0.1, affine=True, track_running_stats=True)\n",
              "      (conv3): Conv2d(256, 1024, kernel_size=(1, 1), stride=(1, 1), bias=False)\n",
              "      (bn3): BatchNorm2d(1024, eps=1e-05, momentum=0.1, affine=True, track_running_stats=True)\n",
              "      (relu): ReLU(inplace=True)\n",
              "      (downsample): Sequential(\n",
              "        (0): Conv2d(512, 1024, kernel_size=(1, 1), stride=(2, 2), bias=False)\n",
              "        (1): BatchNorm2d(1024, eps=1e-05, momentum=0.1, affine=True, track_running_stats=True)\n",
              "      )\n",
              "    )\n",
              "    (1): Bottleneck(\n",
              "      (conv1): Conv2d(1024, 256, kernel_size=(1, 1), stride=(1, 1), bias=False)\n",
              "      (bn1): BatchNorm2d(256, eps=1e-05, momentum=0.1, affine=True, track_running_stats=True)\n",
              "      (conv2): Conv2d(256, 256, kernel_size=(3, 3), stride=(1, 1), padding=(1, 1), bias=False)\n",
              "      (bn2): BatchNorm2d(256, eps=1e-05, momentum=0.1, affine=True, track_running_stats=True)\n",
              "      (conv3): Conv2d(256, 1024, kernel_size=(1, 1), stride=(1, 1), bias=False)\n",
              "      (bn3): BatchNorm2d(1024, eps=1e-05, momentum=0.1, affine=True, track_running_stats=True)\n",
              "      (relu): ReLU(inplace=True)\n",
              "    )\n",
              "    (2): Bottleneck(\n",
              "      (conv1): Conv2d(1024, 256, kernel_size=(1, 1), stride=(1, 1), bias=False)\n",
              "      (bn1): BatchNorm2d(256, eps=1e-05, momentum=0.1, affine=True, track_running_stats=True)\n",
              "      (conv2): Conv2d(256, 256, kernel_size=(3, 3), stride=(1, 1), padding=(1, 1), bias=False)\n",
              "      (bn2): BatchNorm2d(256, eps=1e-05, momentum=0.1, affine=True, track_running_stats=True)\n",
              "      (conv3): Conv2d(256, 1024, kernel_size=(1, 1), stride=(1, 1), bias=False)\n",
              "      (bn3): BatchNorm2d(1024, eps=1e-05, momentum=0.1, affine=True, track_running_stats=True)\n",
              "      (relu): ReLU(inplace=True)\n",
              "    )\n",
              "    (3): Bottleneck(\n",
              "      (conv1): Conv2d(1024, 256, kernel_size=(1, 1), stride=(1, 1), bias=False)\n",
              "      (bn1): BatchNorm2d(256, eps=1e-05, momentum=0.1, affine=True, track_running_stats=True)\n",
              "      (conv2): Conv2d(256, 256, kernel_size=(3, 3), stride=(1, 1), padding=(1, 1), bias=False)\n",
              "      (bn2): BatchNorm2d(256, eps=1e-05, momentum=0.1, affine=True, track_running_stats=True)\n",
              "      (conv3): Conv2d(256, 1024, kernel_size=(1, 1), stride=(1, 1), bias=False)\n",
              "      (bn3): BatchNorm2d(1024, eps=1e-05, momentum=0.1, affine=True, track_running_stats=True)\n",
              "      (relu): ReLU(inplace=True)\n",
              "    )\n",
              "    (4): Bottleneck(\n",
              "      (conv1): Conv2d(1024, 256, kernel_size=(1, 1), stride=(1, 1), bias=False)\n",
              "      (bn1): BatchNorm2d(256, eps=1e-05, momentum=0.1, affine=True, track_running_stats=True)\n",
              "      (conv2): Conv2d(256, 256, kernel_size=(3, 3), stride=(1, 1), padding=(1, 1), bias=False)\n",
              "      (bn2): BatchNorm2d(256, eps=1e-05, momentum=0.1, affine=True, track_running_stats=True)\n",
              "      (conv3): Conv2d(256, 1024, kernel_size=(1, 1), stride=(1, 1), bias=False)\n",
              "      (bn3): BatchNorm2d(1024, eps=1e-05, momentum=0.1, affine=True, track_running_stats=True)\n",
              "      (relu): ReLU(inplace=True)\n",
              "    )\n",
              "    (5): Bottleneck(\n",
              "      (conv1): Conv2d(1024, 256, kernel_size=(1, 1), stride=(1, 1), bias=False)\n",
              "      (bn1): BatchNorm2d(256, eps=1e-05, momentum=0.1, affine=True, track_running_stats=True)\n",
              "      (conv2): Conv2d(256, 256, kernel_size=(3, 3), stride=(1, 1), padding=(1, 1), bias=False)\n",
              "      (bn2): BatchNorm2d(256, eps=1e-05, momentum=0.1, affine=True, track_running_stats=True)\n",
              "      (conv3): Conv2d(256, 1024, kernel_size=(1, 1), stride=(1, 1), bias=False)\n",
              "      (bn3): BatchNorm2d(1024, eps=1e-05, momentum=0.1, affine=True, track_running_stats=True)\n",
              "      (relu): ReLU(inplace=True)\n",
              "    )\n",
              "  )\n",
              "  (layer4): Sequential(\n",
              "    (0): Bottleneck(\n",
              "      (conv1): Conv2d(1024, 512, kernel_size=(1, 1), stride=(1, 1), bias=False)\n",
              "      (bn1): BatchNorm2d(512, eps=1e-05, momentum=0.1, affine=True, track_running_stats=True)\n",
              "      (conv2): Conv2d(512, 512, kernel_size=(3, 3), stride=(2, 2), padding=(1, 1), bias=False)\n",
              "      (bn2): BatchNorm2d(512, eps=1e-05, momentum=0.1, affine=True, track_running_stats=True)\n",
              "      (conv3): Conv2d(512, 2048, kernel_size=(1, 1), stride=(1, 1), bias=False)\n",
              "      (bn3): BatchNorm2d(2048, eps=1e-05, momentum=0.1, affine=True, track_running_stats=True)\n",
              "      (relu): ReLU(inplace=True)\n",
              "      (downsample): Sequential(\n",
              "        (0): Conv2d(1024, 2048, kernel_size=(1, 1), stride=(2, 2), bias=False)\n",
              "        (1): BatchNorm2d(2048, eps=1e-05, momentum=0.1, affine=True, track_running_stats=True)\n",
              "      )\n",
              "    )\n",
              "    (1): Bottleneck(\n",
              "      (conv1): Conv2d(2048, 512, kernel_size=(1, 1), stride=(1, 1), bias=False)\n",
              "      (bn1): BatchNorm2d(512, eps=1e-05, momentum=0.1, affine=True, track_running_stats=True)\n",
              "      (conv2): Conv2d(512, 512, kernel_size=(3, 3), stride=(1, 1), padding=(1, 1), bias=False)\n",
              "      (bn2): BatchNorm2d(512, eps=1e-05, momentum=0.1, affine=True, track_running_stats=True)\n",
              "      (conv3): Conv2d(512, 2048, kernel_size=(1, 1), stride=(1, 1), bias=False)\n",
              "      (bn3): BatchNorm2d(2048, eps=1e-05, momentum=0.1, affine=True, track_running_stats=True)\n",
              "      (relu): ReLU(inplace=True)\n",
              "    )\n",
              "    (2): Bottleneck(\n",
              "      (conv1): Conv2d(2048, 512, kernel_size=(1, 1), stride=(1, 1), bias=False)\n",
              "      (bn1): BatchNorm2d(512, eps=1e-05, momentum=0.1, affine=True, track_running_stats=True)\n",
              "      (conv2): Conv2d(512, 512, kernel_size=(3, 3), stride=(1, 1), padding=(1, 1), bias=False)\n",
              "      (bn2): BatchNorm2d(512, eps=1e-05, momentum=0.1, affine=True, track_running_stats=True)\n",
              "      (conv3): Conv2d(512, 2048, kernel_size=(1, 1), stride=(1, 1), bias=False)\n",
              "      (bn3): BatchNorm2d(2048, eps=1e-05, momentum=0.1, affine=True, track_running_stats=True)\n",
              "      (relu): ReLU(inplace=True)\n",
              "    )\n",
              "  )\n",
              "  (avgpool): AdaptiveAvgPool2d(output_size=(1, 1))\n",
              "  (fc): Linear(in_features=2048, out_features=1000, bias=True)\n",
              ")"
            ]
          },
          "metadata": {},
          "execution_count": 32
        }
      ]
    },
    {
      "cell_type": "markdown",
      "source": [
        "**MODIFY THE NETWORK**"
      ],
      "metadata": {
        "id": "u4ViMBINIPu6"
      },
      "id": "u4ViMBINIPu6"
    },
    {
      "cell_type": "markdown",
      "source": [
        "**INPUT FEATURES EXTRACTION**"
      ],
      "metadata": {
        "id": "PlVArwo0I6fV"
      },
      "id": "PlVArwo0I6fV"
    },
    {
      "cell_type": "code",
      "source": [
        "list(model.named_modules())[-1]\n",
        "in_features = model.fc.in_features\n",
        "print(in_features)"
      ],
      "metadata": {
        "colab": {
          "base_uri": "https://localhost:8080/"
        },
        "id": "U25wUa1oII7k",
        "outputId": "76327c40-02b0-4020-cc81-e29826322720"
      },
      "id": "U25wUa1oII7k",
      "execution_count": 35,
      "outputs": [
        {
          "output_type": "stream",
          "name": "stdout",
          "text": [
            "2048\n"
          ]
        }
      ]
    },
    {
      "cell_type": "markdown",
      "source": [
        "**LINEAR LAYER**"
      ],
      "metadata": {
        "id": "ziamt2V2JJp2"
      },
      "id": "ziamt2V2JJp2"
    },
    {
      "cell_type": "code",
      "source": [
        "classifier = nn.Sequential(\n",
        "    nn.Linear(in_features, 256),\n",
        "    nn.ReLU(),\n",
        "    nn.Dropout(0.5),\n",
        "    nn.Linear(256, 3)\n",
        ")"
      ],
      "metadata": {
        "id": "e_hr050mIsHC"
      },
      "id": "e_hr050mIsHC",
      "execution_count": 37,
      "outputs": []
    },
    {
      "cell_type": "code",
      "source": [
        "# Replace the output layer in resnet with classifier\n",
        "model.fc = classifier"
      ],
      "metadata": {
        "id": "WkKj4_7pKNkG"
      },
      "id": "WkKj4_7pKNkG",
      "execution_count": 40,
      "outputs": []
    },
    {
      "cell_type": "code",
      "source": [
        "summary(model, input_size=(32, 3, 224, 224))"
      ],
      "metadata": {
        "colab": {
          "base_uri": "https://localhost:8080/"
        },
        "id": "Yb65-39uJsDz",
        "outputId": "ff1b8767-e082-47fc-c134-b22fdb2a6ee3"
      },
      "id": "Yb65-39uJsDz",
      "execution_count": 41,
      "outputs": [
        {
          "output_type": "execute_result",
          "data": {
            "text/plain": [
              "==========================================================================================\n",
              "Layer (type:depth-idx)                   Output Shape              Param #\n",
              "==========================================================================================\n",
              "ResNet                                   [32, 3]                   --\n",
              "├─Conv2d: 1-1                            [32, 64, 112, 112]        (9,408)\n",
              "├─BatchNorm2d: 1-2                       [32, 64, 112, 112]        (128)\n",
              "├─ReLU: 1-3                              [32, 64, 112, 112]        --\n",
              "├─MaxPool2d: 1-4                         [32, 64, 56, 56]          --\n",
              "├─Sequential: 1-5                        [32, 256, 56, 56]         --\n",
              "│    └─Bottleneck: 2-1                   [32, 256, 56, 56]         --\n",
              "│    │    └─Conv2d: 3-1                  [32, 64, 56, 56]          (4,096)\n",
              "│    │    └─BatchNorm2d: 3-2             [32, 64, 56, 56]          (128)\n",
              "│    │    └─ReLU: 3-3                    [32, 64, 56, 56]          --\n",
              "│    │    └─Conv2d: 3-4                  [32, 64, 56, 56]          (36,864)\n",
              "│    │    └─BatchNorm2d: 3-5             [32, 64, 56, 56]          (128)\n",
              "│    │    └─ReLU: 3-6                    [32, 64, 56, 56]          --\n",
              "│    │    └─Conv2d: 3-7                  [32, 256, 56, 56]         (16,384)\n",
              "│    │    └─BatchNorm2d: 3-8             [32, 256, 56, 56]         (512)\n",
              "│    │    └─Sequential: 3-9              [32, 256, 56, 56]         (16,896)\n",
              "│    │    └─ReLU: 3-10                   [32, 256, 56, 56]         --\n",
              "│    └─Bottleneck: 2-2                   [32, 256, 56, 56]         --\n",
              "│    │    └─Conv2d: 3-11                 [32, 64, 56, 56]          (16,384)\n",
              "│    │    └─BatchNorm2d: 3-12            [32, 64, 56, 56]          (128)\n",
              "│    │    └─ReLU: 3-13                   [32, 64, 56, 56]          --\n",
              "│    │    └─Conv2d: 3-14                 [32, 64, 56, 56]          (36,864)\n",
              "│    │    └─BatchNorm2d: 3-15            [32, 64, 56, 56]          (128)\n",
              "│    │    └─ReLU: 3-16                   [32, 64, 56, 56]          --\n",
              "│    │    └─Conv2d: 3-17                 [32, 256, 56, 56]         (16,384)\n",
              "│    │    └─BatchNorm2d: 3-18            [32, 256, 56, 56]         (512)\n",
              "│    │    └─ReLU: 3-19                   [32, 256, 56, 56]         --\n",
              "│    └─Bottleneck: 2-3                   [32, 256, 56, 56]         --\n",
              "│    │    └─Conv2d: 3-20                 [32, 64, 56, 56]          (16,384)\n",
              "│    │    └─BatchNorm2d: 3-21            [32, 64, 56, 56]          (128)\n",
              "│    │    └─ReLU: 3-22                   [32, 64, 56, 56]          --\n",
              "│    │    └─Conv2d: 3-23                 [32, 64, 56, 56]          (36,864)\n",
              "│    │    └─BatchNorm2d: 3-24            [32, 64, 56, 56]          (128)\n",
              "│    │    └─ReLU: 3-25                   [32, 64, 56, 56]          --\n",
              "│    │    └─Conv2d: 3-26                 [32, 256, 56, 56]         (16,384)\n",
              "│    │    └─BatchNorm2d: 3-27            [32, 256, 56, 56]         (512)\n",
              "│    │    └─ReLU: 3-28                   [32, 256, 56, 56]         --\n",
              "├─Sequential: 1-6                        [32, 512, 28, 28]         --\n",
              "│    └─Bottleneck: 2-4                   [32, 512, 28, 28]         --\n",
              "│    │    └─Conv2d: 3-29                 [32, 128, 56, 56]         (32,768)\n",
              "│    │    └─BatchNorm2d: 3-30            [32, 128, 56, 56]         (256)\n",
              "│    │    └─ReLU: 3-31                   [32, 128, 56, 56]         --\n",
              "│    │    └─Conv2d: 3-32                 [32, 128, 28, 28]         (147,456)\n",
              "│    │    └─BatchNorm2d: 3-33            [32, 128, 28, 28]         (256)\n",
              "│    │    └─ReLU: 3-34                   [32, 128, 28, 28]         --\n",
              "│    │    └─Conv2d: 3-35                 [32, 512, 28, 28]         (65,536)\n",
              "│    │    └─BatchNorm2d: 3-36            [32, 512, 28, 28]         (1,024)\n",
              "│    │    └─Sequential: 3-37             [32, 512, 28, 28]         (132,096)\n",
              "│    │    └─ReLU: 3-38                   [32, 512, 28, 28]         --\n",
              "│    └─Bottleneck: 2-5                   [32, 512, 28, 28]         --\n",
              "│    │    └─Conv2d: 3-39                 [32, 128, 28, 28]         (65,536)\n",
              "│    │    └─BatchNorm2d: 3-40            [32, 128, 28, 28]         (256)\n",
              "│    │    └─ReLU: 3-41                   [32, 128, 28, 28]         --\n",
              "│    │    └─Conv2d: 3-42                 [32, 128, 28, 28]         (147,456)\n",
              "│    │    └─BatchNorm2d: 3-43            [32, 128, 28, 28]         (256)\n",
              "│    │    └─ReLU: 3-44                   [32, 128, 28, 28]         --\n",
              "│    │    └─Conv2d: 3-45                 [32, 512, 28, 28]         (65,536)\n",
              "│    │    └─BatchNorm2d: 3-46            [32, 512, 28, 28]         (1,024)\n",
              "│    │    └─ReLU: 3-47                   [32, 512, 28, 28]         --\n",
              "│    └─Bottleneck: 2-6                   [32, 512, 28, 28]         --\n",
              "│    │    └─Conv2d: 3-48                 [32, 128, 28, 28]         (65,536)\n",
              "│    │    └─BatchNorm2d: 3-49            [32, 128, 28, 28]         (256)\n",
              "│    │    └─ReLU: 3-50                   [32, 128, 28, 28]         --\n",
              "│    │    └─Conv2d: 3-51                 [32, 128, 28, 28]         (147,456)\n",
              "│    │    └─BatchNorm2d: 3-52            [32, 128, 28, 28]         (256)\n",
              "│    │    └─ReLU: 3-53                   [32, 128, 28, 28]         --\n",
              "│    │    └─Conv2d: 3-54                 [32, 512, 28, 28]         (65,536)\n",
              "│    │    └─BatchNorm2d: 3-55            [32, 512, 28, 28]         (1,024)\n",
              "│    │    └─ReLU: 3-56                   [32, 512, 28, 28]         --\n",
              "│    └─Bottleneck: 2-7                   [32, 512, 28, 28]         --\n",
              "│    │    └─Conv2d: 3-57                 [32, 128, 28, 28]         (65,536)\n",
              "│    │    └─BatchNorm2d: 3-58            [32, 128, 28, 28]         (256)\n",
              "│    │    └─ReLU: 3-59                   [32, 128, 28, 28]         --\n",
              "│    │    └─Conv2d: 3-60                 [32, 128, 28, 28]         (147,456)\n",
              "│    │    └─BatchNorm2d: 3-61            [32, 128, 28, 28]         (256)\n",
              "│    │    └─ReLU: 3-62                   [32, 128, 28, 28]         --\n",
              "│    │    └─Conv2d: 3-63                 [32, 512, 28, 28]         (65,536)\n",
              "│    │    └─BatchNorm2d: 3-64            [32, 512, 28, 28]         (1,024)\n",
              "│    │    └─ReLU: 3-65                   [32, 512, 28, 28]         --\n",
              "├─Sequential: 1-7                        [32, 1024, 14, 14]        --\n",
              "│    └─Bottleneck: 2-8                   [32, 1024, 14, 14]        --\n",
              "│    │    └─Conv2d: 3-66                 [32, 256, 28, 28]         (131,072)\n",
              "│    │    └─BatchNorm2d: 3-67            [32, 256, 28, 28]         (512)\n",
              "│    │    └─ReLU: 3-68                   [32, 256, 28, 28]         --\n",
              "│    │    └─Conv2d: 3-69                 [32, 256, 14, 14]         (589,824)\n",
              "│    │    └─BatchNorm2d: 3-70            [32, 256, 14, 14]         (512)\n",
              "│    │    └─ReLU: 3-71                   [32, 256, 14, 14]         --\n",
              "│    │    └─Conv2d: 3-72                 [32, 1024, 14, 14]        (262,144)\n",
              "│    │    └─BatchNorm2d: 3-73            [32, 1024, 14, 14]        (2,048)\n",
              "│    │    └─Sequential: 3-74             [32, 1024, 14, 14]        (526,336)\n",
              "│    │    └─ReLU: 3-75                   [32, 1024, 14, 14]        --\n",
              "│    └─Bottleneck: 2-9                   [32, 1024, 14, 14]        --\n",
              "│    │    └─Conv2d: 3-76                 [32, 256, 14, 14]         (262,144)\n",
              "│    │    └─BatchNorm2d: 3-77            [32, 256, 14, 14]         (512)\n",
              "│    │    └─ReLU: 3-78                   [32, 256, 14, 14]         --\n",
              "│    │    └─Conv2d: 3-79                 [32, 256, 14, 14]         (589,824)\n",
              "│    │    └─BatchNorm2d: 3-80            [32, 256, 14, 14]         (512)\n",
              "│    │    └─ReLU: 3-81                   [32, 256, 14, 14]         --\n",
              "│    │    └─Conv2d: 3-82                 [32, 1024, 14, 14]        (262,144)\n",
              "│    │    └─BatchNorm2d: 3-83            [32, 1024, 14, 14]        (2,048)\n",
              "│    │    └─ReLU: 3-84                   [32, 1024, 14, 14]        --\n",
              "│    └─Bottleneck: 2-10                  [32, 1024, 14, 14]        --\n",
              "│    │    └─Conv2d: 3-85                 [32, 256, 14, 14]         (262,144)\n",
              "│    │    └─BatchNorm2d: 3-86            [32, 256, 14, 14]         (512)\n",
              "│    │    └─ReLU: 3-87                   [32, 256, 14, 14]         --\n",
              "│    │    └─Conv2d: 3-88                 [32, 256, 14, 14]         (589,824)\n",
              "│    │    └─BatchNorm2d: 3-89            [32, 256, 14, 14]         (512)\n",
              "│    │    └─ReLU: 3-90                   [32, 256, 14, 14]         --\n",
              "│    │    └─Conv2d: 3-91                 [32, 1024, 14, 14]        (262,144)\n",
              "│    │    └─BatchNorm2d: 3-92            [32, 1024, 14, 14]        (2,048)\n",
              "│    │    └─ReLU: 3-93                   [32, 1024, 14, 14]        --\n",
              "│    └─Bottleneck: 2-11                  [32, 1024, 14, 14]        --\n",
              "│    │    └─Conv2d: 3-94                 [32, 256, 14, 14]         (262,144)\n",
              "│    │    └─BatchNorm2d: 3-95            [32, 256, 14, 14]         (512)\n",
              "│    │    └─ReLU: 3-96                   [32, 256, 14, 14]         --\n",
              "│    │    └─Conv2d: 3-97                 [32, 256, 14, 14]         (589,824)\n",
              "│    │    └─BatchNorm2d: 3-98            [32, 256, 14, 14]         (512)\n",
              "│    │    └─ReLU: 3-99                   [32, 256, 14, 14]         --\n",
              "│    │    └─Conv2d: 3-100                [32, 1024, 14, 14]        (262,144)\n",
              "│    │    └─BatchNorm2d: 3-101           [32, 1024, 14, 14]        (2,048)\n",
              "│    │    └─ReLU: 3-102                  [32, 1024, 14, 14]        --\n",
              "│    └─Bottleneck: 2-12                  [32, 1024, 14, 14]        --\n",
              "│    │    └─Conv2d: 3-103                [32, 256, 14, 14]         (262,144)\n",
              "│    │    └─BatchNorm2d: 3-104           [32, 256, 14, 14]         (512)\n",
              "│    │    └─ReLU: 3-105                  [32, 256, 14, 14]         --\n",
              "│    │    └─Conv2d: 3-106                [32, 256, 14, 14]         (589,824)\n",
              "│    │    └─BatchNorm2d: 3-107           [32, 256, 14, 14]         (512)\n",
              "│    │    └─ReLU: 3-108                  [32, 256, 14, 14]         --\n",
              "│    │    └─Conv2d: 3-109                [32, 1024, 14, 14]        (262,144)\n",
              "│    │    └─BatchNorm2d: 3-110           [32, 1024, 14, 14]        (2,048)\n",
              "│    │    └─ReLU: 3-111                  [32, 1024, 14, 14]        --\n",
              "│    └─Bottleneck: 2-13                  [32, 1024, 14, 14]        --\n",
              "│    │    └─Conv2d: 3-112                [32, 256, 14, 14]         (262,144)\n",
              "│    │    └─BatchNorm2d: 3-113           [32, 256, 14, 14]         (512)\n",
              "│    │    └─ReLU: 3-114                  [32, 256, 14, 14]         --\n",
              "│    │    └─Conv2d: 3-115                [32, 256, 14, 14]         (589,824)\n",
              "│    │    └─BatchNorm2d: 3-116           [32, 256, 14, 14]         (512)\n",
              "│    │    └─ReLU: 3-117                  [32, 256, 14, 14]         --\n",
              "│    │    └─Conv2d: 3-118                [32, 1024, 14, 14]        (262,144)\n",
              "│    │    └─BatchNorm2d: 3-119           [32, 1024, 14, 14]        (2,048)\n",
              "│    │    └─ReLU: 3-120                  [32, 1024, 14, 14]        --\n",
              "├─Sequential: 1-8                        [32, 2048, 7, 7]          --\n",
              "│    └─Bottleneck: 2-14                  [32, 2048, 7, 7]          --\n",
              "│    │    └─Conv2d: 3-121                [32, 512, 14, 14]         (524,288)\n",
              "│    │    └─BatchNorm2d: 3-122           [32, 512, 14, 14]         (1,024)\n",
              "│    │    └─ReLU: 3-123                  [32, 512, 14, 14]         --\n",
              "│    │    └─Conv2d: 3-124                [32, 512, 7, 7]           (2,359,296)\n",
              "│    │    └─BatchNorm2d: 3-125           [32, 512, 7, 7]           (1,024)\n",
              "│    │    └─ReLU: 3-126                  [32, 512, 7, 7]           --\n",
              "│    │    └─Conv2d: 3-127                [32, 2048, 7, 7]          (1,048,576)\n",
              "│    │    └─BatchNorm2d: 3-128           [32, 2048, 7, 7]          (4,096)\n",
              "│    │    └─Sequential: 3-129            [32, 2048, 7, 7]          (2,101,248)\n",
              "│    │    └─ReLU: 3-130                  [32, 2048, 7, 7]          --\n",
              "│    └─Bottleneck: 2-15                  [32, 2048, 7, 7]          --\n",
              "│    │    └─Conv2d: 3-131                [32, 512, 7, 7]           (1,048,576)\n",
              "│    │    └─BatchNorm2d: 3-132           [32, 512, 7, 7]           (1,024)\n",
              "│    │    └─ReLU: 3-133                  [32, 512, 7, 7]           --\n",
              "│    │    └─Conv2d: 3-134                [32, 512, 7, 7]           (2,359,296)\n",
              "│    │    └─BatchNorm2d: 3-135           [32, 512, 7, 7]           (1,024)\n",
              "│    │    └─ReLU: 3-136                  [32, 512, 7, 7]           --\n",
              "│    │    └─Conv2d: 3-137                [32, 2048, 7, 7]          (1,048,576)\n",
              "│    │    └─BatchNorm2d: 3-138           [32, 2048, 7, 7]          (4,096)\n",
              "│    │    └─ReLU: 3-139                  [32, 2048, 7, 7]          --\n",
              "│    └─Bottleneck: 2-16                  [32, 2048, 7, 7]          --\n",
              "│    │    └─Conv2d: 3-140                [32, 512, 7, 7]           (1,048,576)\n",
              "│    │    └─BatchNorm2d: 3-141           [32, 512, 7, 7]           (1,024)\n",
              "│    │    └─ReLU: 3-142                  [32, 512, 7, 7]           --\n",
              "│    │    └─Conv2d: 3-143                [32, 512, 7, 7]           (2,359,296)\n",
              "│    │    └─BatchNorm2d: 3-144           [32, 512, 7, 7]           (1,024)\n",
              "│    │    └─ReLU: 3-145                  [32, 512, 7, 7]           --\n",
              "│    │    └─Conv2d: 3-146                [32, 2048, 7, 7]          (1,048,576)\n",
              "│    │    └─BatchNorm2d: 3-147           [32, 2048, 7, 7]          (4,096)\n",
              "│    │    └─ReLU: 3-148                  [32, 2048, 7, 7]          --\n",
              "├─AdaptiveAvgPool2d: 1-9                 [32, 2048, 1, 1]          --\n",
              "├─Sequential: 1-10                       [32, 3]                   --\n",
              "│    └─Linear: 2-17                      [32, 256]                 524,544\n",
              "│    └─ReLU: 2-18                        [32, 256]                 --\n",
              "│    └─Dropout: 2-19                     [32, 256]                 --\n",
              "│    └─Linear: 2-20                      [32, 3]                   771\n",
              "==========================================================================================\n",
              "Total params: 24,033,347\n",
              "Trainable params: 525,315\n",
              "Non-trainable params: 23,508,032\n",
              "Total mult-adds (Units.GIGABYTES): 130.81\n",
              "==========================================================================================\n",
              "Input size (MB): 19.27\n",
              "Forward/backward pass size (MB): 5690.43\n",
              "Params size (MB): 96.13\n",
              "Estimated Total Size (MB): 5805.83\n",
              "=========================================================================================="
            ]
          },
          "metadata": {},
          "execution_count": 41
        }
      ]
    },
    {
      "cell_type": "markdown",
      "source": [
        "**TRAINING**"
      ],
      "metadata": {
        "id": "GkJJsd74LNL5"
      },
      "id": "GkJJsd74LNL5"
    },
    {
      "cell_type": "code",
      "source": [
        "# Define loss function\n",
        "loss_fn = nn.CrossEntropyLoss()\n",
        "optimizer = optim.Adam(model.parameters(), lr=0.001)"
      ],
      "metadata": {
        "id": "IjBBjcySNuX-"
      },
      "id": "IjBBjcySNuX-",
      "execution_count": 42,
      "outputs": []
    },
    {
      "cell_type": "code",
      "source": [
        "def train(model, optimizer, loss_fn, data_loader, device=\"cpu\"):\n",
        "\n",
        "  # Initialize training loss\n",
        "  training_loss = 0.0\n",
        "\n",
        "  # Set the model in training mode, no training has happenedd\n",
        "  model.train()\n",
        "\n",
        "  # Iterate over all batches\n",
        "  for inputs, labels in tqdm(data_loader):\n",
        "    # Reset the gradients of all model parameters\n",
        "    optimizer.zero_grad()\n",
        "    # Move inputs, labels to device, unpack\n",
        "    inputs = inputs.to(device)\n",
        "    labels = labels.to(device)\n",
        "    # Forward propagation, obtain loss\n",
        "    output = model(inputs)\n",
        "    loss = loss_fn(output, labels)\n",
        "    # Backpropagation\n",
        "    loss.backward()\n",
        "    # Update parameters\n",
        "    optimizer.step()\n",
        "    # Increment the training loss for the current batch\n",
        "    training_loss += loss.data.items() * inputs.size(0)\n",
        "\n",
        "    return training_loss / len(data_loader.dataset)"
      ],
      "metadata": {
        "id": "NSNYgd4NOKRJ"
      },
      "id": "NSNYgd4NOKRJ",
      "execution_count": 43,
      "outputs": []
    }
  ],
  "metadata": {
    "kernelspec": {
      "display_name": "Python 3",
      "name": "python3"
    },
    "language_info": {
      "name": "python",
      "version": "3.8"
    },
    "colab": {
      "provenance": [],
      "toc_visible": true,
      "gpuType": "T4"
    },
    "accelerator": "GPU",
    "widgets": {
      "application/vnd.jupyter.widget-state+json": {
        "4983e21c483244f486994337fcda8f62": {
          "model_module": "@jupyter-widgets/controls",
          "model_name": "HBoxModel",
          "model_module_version": "1.5.0",
          "state": {
            "_dom_classes": [],
            "_model_module": "@jupyter-widgets/controls",
            "_model_module_version": "1.5.0",
            "_model_name": "HBoxModel",
            "_view_count": null,
            "_view_module": "@jupyter-widgets/controls",
            "_view_module_version": "1.5.0",
            "_view_name": "HBoxView",
            "box_style": "",
            "children": [
              "IPY_MODEL_5f138658963442ab8c78097aa83996b8",
              "IPY_MODEL_20fa938b1b894f97956bce0b7a8d4754",
              "IPY_MODEL_7c10822368b2461995c14fbb13721125"
            ],
            "layout": "IPY_MODEL_0c2408b96dd549afa5af521f6c860dfe"
          }
        },
        "5f138658963442ab8c78097aa83996b8": {
          "model_module": "@jupyter-widgets/controls",
          "model_name": "HTMLModel",
          "model_module_version": "1.5.0",
          "state": {
            "_dom_classes": [],
            "_model_module": "@jupyter-widgets/controls",
            "_model_module_version": "1.5.0",
            "_model_name": "HTMLModel",
            "_view_count": null,
            "_view_module": "@jupyter-widgets/controls",
            "_view_module_version": "1.5.0",
            "_view_name": "HTMLView",
            "description": "",
            "description_tooltip": null,
            "layout": "IPY_MODEL_73cd759dda2c4f2b8f2ca10b91aaf657",
            "placeholder": "​",
            "style": "IPY_MODEL_c95ac6fb55c547359f49dea14dd2410e",
            "value": "Computing mean and std:  99%"
          }
        },
        "20fa938b1b894f97956bce0b7a8d4754": {
          "model_module": "@jupyter-widgets/controls",
          "model_name": "FloatProgressModel",
          "model_module_version": "1.5.0",
          "state": {
            "_dom_classes": [],
            "_model_module": "@jupyter-widgets/controls",
            "_model_module_version": "1.5.0",
            "_model_name": "FloatProgressModel",
            "_view_count": null,
            "_view_module": "@jupyter-widgets/controls",
            "_view_module_version": "1.5.0",
            "_view_name": "ProgressView",
            "bar_style": "",
            "description": "",
            "description_tooltip": null,
            "layout": "IPY_MODEL_e55d551616bb4ccbb0277967516d5336",
            "max": 213,
            "min": 0,
            "orientation": "horizontal",
            "style": "IPY_MODEL_b897e9e50c134d5cb6d648129fb6e47b",
            "value": 213
          }
        },
        "7c10822368b2461995c14fbb13721125": {
          "model_module": "@jupyter-widgets/controls",
          "model_name": "HTMLModel",
          "model_module_version": "1.5.0",
          "state": {
            "_dom_classes": [],
            "_model_module": "@jupyter-widgets/controls",
            "_model_module_version": "1.5.0",
            "_model_name": "HTMLModel",
            "_view_count": null,
            "_view_module": "@jupyter-widgets/controls",
            "_view_module_version": "1.5.0",
            "_view_name": "HTMLView",
            "description": "",
            "description_tooltip": null,
            "layout": "IPY_MODEL_f336d347f10d445d9f79441cdbb512f0",
            "placeholder": "​",
            "style": "IPY_MODEL_f94cb7447f1c44a3bf951b95e58a9744",
            "value": " 211/213 [00:12&lt;00:00, 18.64it/s]"
          }
        },
        "0c2408b96dd549afa5af521f6c860dfe": {
          "model_module": "@jupyter-widgets/base",
          "model_name": "LayoutModel",
          "model_module_version": "1.2.0",
          "state": {
            "_model_module": "@jupyter-widgets/base",
            "_model_module_version": "1.2.0",
            "_model_name": "LayoutModel",
            "_view_count": null,
            "_view_module": "@jupyter-widgets/base",
            "_view_module_version": "1.2.0",
            "_view_name": "LayoutView",
            "align_content": null,
            "align_items": null,
            "align_self": null,
            "border": null,
            "bottom": null,
            "display": null,
            "flex": null,
            "flex_flow": null,
            "grid_area": null,
            "grid_auto_columns": null,
            "grid_auto_flow": null,
            "grid_auto_rows": null,
            "grid_column": null,
            "grid_gap": null,
            "grid_row": null,
            "grid_template_areas": null,
            "grid_template_columns": null,
            "grid_template_rows": null,
            "height": null,
            "justify_content": null,
            "justify_items": null,
            "left": null,
            "margin": null,
            "max_height": null,
            "max_width": null,
            "min_height": null,
            "min_width": null,
            "object_fit": null,
            "object_position": null,
            "order": null,
            "overflow": null,
            "overflow_x": null,
            "overflow_y": null,
            "padding": null,
            "right": null,
            "top": null,
            "visibility": "hidden",
            "width": null
          }
        },
        "73cd759dda2c4f2b8f2ca10b91aaf657": {
          "model_module": "@jupyter-widgets/base",
          "model_name": "LayoutModel",
          "model_module_version": "1.2.0",
          "state": {
            "_model_module": "@jupyter-widgets/base",
            "_model_module_version": "1.2.0",
            "_model_name": "LayoutModel",
            "_view_count": null,
            "_view_module": "@jupyter-widgets/base",
            "_view_module_version": "1.2.0",
            "_view_name": "LayoutView",
            "align_content": null,
            "align_items": null,
            "align_self": null,
            "border": null,
            "bottom": null,
            "display": null,
            "flex": null,
            "flex_flow": null,
            "grid_area": null,
            "grid_auto_columns": null,
            "grid_auto_flow": null,
            "grid_auto_rows": null,
            "grid_column": null,
            "grid_gap": null,
            "grid_row": null,
            "grid_template_areas": null,
            "grid_template_columns": null,
            "grid_template_rows": null,
            "height": null,
            "justify_content": null,
            "justify_items": null,
            "left": null,
            "margin": null,
            "max_height": null,
            "max_width": null,
            "min_height": null,
            "min_width": null,
            "object_fit": null,
            "object_position": null,
            "order": null,
            "overflow": null,
            "overflow_x": null,
            "overflow_y": null,
            "padding": null,
            "right": null,
            "top": null,
            "visibility": null,
            "width": null
          }
        },
        "c95ac6fb55c547359f49dea14dd2410e": {
          "model_module": "@jupyter-widgets/controls",
          "model_name": "DescriptionStyleModel",
          "model_module_version": "1.5.0",
          "state": {
            "_model_module": "@jupyter-widgets/controls",
            "_model_module_version": "1.5.0",
            "_model_name": "DescriptionStyleModel",
            "_view_count": null,
            "_view_module": "@jupyter-widgets/base",
            "_view_module_version": "1.2.0",
            "_view_name": "StyleView",
            "description_width": ""
          }
        },
        "e55d551616bb4ccbb0277967516d5336": {
          "model_module": "@jupyter-widgets/base",
          "model_name": "LayoutModel",
          "model_module_version": "1.2.0",
          "state": {
            "_model_module": "@jupyter-widgets/base",
            "_model_module_version": "1.2.0",
            "_model_name": "LayoutModel",
            "_view_count": null,
            "_view_module": "@jupyter-widgets/base",
            "_view_module_version": "1.2.0",
            "_view_name": "LayoutView",
            "align_content": null,
            "align_items": null,
            "align_self": null,
            "border": null,
            "bottom": null,
            "display": null,
            "flex": null,
            "flex_flow": null,
            "grid_area": null,
            "grid_auto_columns": null,
            "grid_auto_flow": null,
            "grid_auto_rows": null,
            "grid_column": null,
            "grid_gap": null,
            "grid_row": null,
            "grid_template_areas": null,
            "grid_template_columns": null,
            "grid_template_rows": null,
            "height": null,
            "justify_content": null,
            "justify_items": null,
            "left": null,
            "margin": null,
            "max_height": null,
            "max_width": null,
            "min_height": null,
            "min_width": null,
            "object_fit": null,
            "object_position": null,
            "order": null,
            "overflow": null,
            "overflow_x": null,
            "overflow_y": null,
            "padding": null,
            "right": null,
            "top": null,
            "visibility": null,
            "width": null
          }
        },
        "b897e9e50c134d5cb6d648129fb6e47b": {
          "model_module": "@jupyter-widgets/controls",
          "model_name": "ProgressStyleModel",
          "model_module_version": "1.5.0",
          "state": {
            "_model_module": "@jupyter-widgets/controls",
            "_model_module_version": "1.5.0",
            "_model_name": "ProgressStyleModel",
            "_view_count": null,
            "_view_module": "@jupyter-widgets/base",
            "_view_module_version": "1.2.0",
            "_view_name": "StyleView",
            "bar_color": null,
            "description_width": ""
          }
        },
        "f336d347f10d445d9f79441cdbb512f0": {
          "model_module": "@jupyter-widgets/base",
          "model_name": "LayoutModel",
          "model_module_version": "1.2.0",
          "state": {
            "_model_module": "@jupyter-widgets/base",
            "_model_module_version": "1.2.0",
            "_model_name": "LayoutModel",
            "_view_count": null,
            "_view_module": "@jupyter-widgets/base",
            "_view_module_version": "1.2.0",
            "_view_name": "LayoutView",
            "align_content": null,
            "align_items": null,
            "align_self": null,
            "border": null,
            "bottom": null,
            "display": null,
            "flex": null,
            "flex_flow": null,
            "grid_area": null,
            "grid_auto_columns": null,
            "grid_auto_flow": null,
            "grid_auto_rows": null,
            "grid_column": null,
            "grid_gap": null,
            "grid_row": null,
            "grid_template_areas": null,
            "grid_template_columns": null,
            "grid_template_rows": null,
            "height": null,
            "justify_content": null,
            "justify_items": null,
            "left": null,
            "margin": null,
            "max_height": null,
            "max_width": null,
            "min_height": null,
            "min_width": null,
            "object_fit": null,
            "object_position": null,
            "order": null,
            "overflow": null,
            "overflow_x": null,
            "overflow_y": null,
            "padding": null,
            "right": null,
            "top": null,
            "visibility": null,
            "width": null
          }
        },
        "f94cb7447f1c44a3bf951b95e58a9744": {
          "model_module": "@jupyter-widgets/controls",
          "model_name": "DescriptionStyleModel",
          "model_module_version": "1.5.0",
          "state": {
            "_model_module": "@jupyter-widgets/controls",
            "_model_module_version": "1.5.0",
            "_model_name": "DescriptionStyleModel",
            "_view_count": null,
            "_view_module": "@jupyter-widgets/base",
            "_view_module_version": "1.2.0",
            "_view_name": "StyleView",
            "description_width": ""
          }
        },
        "f4fa3cf2e5164774ac24c1e25d8b646b": {
          "model_module": "@jupyter-widgets/controls",
          "model_name": "HBoxModel",
          "model_module_version": "1.5.0",
          "state": {
            "_dom_classes": [],
            "_model_module": "@jupyter-widgets/controls",
            "_model_module_version": "1.5.0",
            "_model_name": "HBoxModel",
            "_view_count": null,
            "_view_module": "@jupyter-widgets/controls",
            "_view_module_version": "1.5.0",
            "_view_name": "HBoxView",
            "box_style": "",
            "children": [
              "IPY_MODEL_3039d05b3bad43cfaf040e87e189fd16",
              "IPY_MODEL_f9bc7b647ffa471a9058d78eaade3e8f",
              "IPY_MODEL_a6949e47a39b4b269dbcf9e6d1b721ce"
            ],
            "layout": "IPY_MODEL_047a1611ac2b4d1f9dea7b98e60567d5"
          }
        },
        "3039d05b3bad43cfaf040e87e189fd16": {
          "model_module": "@jupyter-widgets/controls",
          "model_name": "HTMLModel",
          "model_module_version": "1.5.0",
          "state": {
            "_dom_classes": [],
            "_model_module": "@jupyter-widgets/controls",
            "_model_module_version": "1.5.0",
            "_model_name": "HTMLModel",
            "_view_count": null,
            "_view_module": "@jupyter-widgets/controls",
            "_view_module_version": "1.5.0",
            "_view_name": "HTMLView",
            "description": "",
            "description_tooltip": null,
            "layout": "IPY_MODEL_a9e084b72f4e4cbfb952ebefbacfcd14",
            "placeholder": "​",
            "style": "IPY_MODEL_c6c8a7c61a6c42d395720c34ac68dec6",
            "value": "100%"
          }
        },
        "f9bc7b647ffa471a9058d78eaade3e8f": {
          "model_module": "@jupyter-widgets/controls",
          "model_name": "FloatProgressModel",
          "model_module_version": "1.5.0",
          "state": {
            "_dom_classes": [],
            "_model_module": "@jupyter-widgets/controls",
            "_model_module_version": "1.5.0",
            "_model_name": "FloatProgressModel",
            "_view_count": null,
            "_view_module": "@jupyter-widgets/controls",
            "_view_module_version": "1.5.0",
            "_view_name": "ProgressView",
            "bar_style": "success",
            "description": "",
            "description_tooltip": null,
            "layout": "IPY_MODEL_adb13471846b47e9aafe8f418f6b1236",
            "max": 72,
            "min": 0,
            "orientation": "horizontal",
            "style": "IPY_MODEL_3dc29a940a3d4313b91e433b9fe4589e",
            "value": 72
          }
        },
        "a6949e47a39b4b269dbcf9e6d1b721ce": {
          "model_module": "@jupyter-widgets/controls",
          "model_name": "HTMLModel",
          "model_module_version": "1.5.0",
          "state": {
            "_dom_classes": [],
            "_model_module": "@jupyter-widgets/controls",
            "_model_module_version": "1.5.0",
            "_model_name": "HTMLModel",
            "_view_count": null,
            "_view_module": "@jupyter-widgets/controls",
            "_view_module_version": "1.5.0",
            "_view_name": "HTMLView",
            "description": "",
            "description_tooltip": null,
            "layout": "IPY_MODEL_8a2a4531acc643c28394bdbce4087cc9",
            "placeholder": "​",
            "style": "IPY_MODEL_2fe8e4e54f7a48bbb3b55f7e0b41df04",
            "value": " 72/72 [00:03&lt;00:00, 20.59it/s]"
          }
        },
        "047a1611ac2b4d1f9dea7b98e60567d5": {
          "model_module": "@jupyter-widgets/base",
          "model_name": "LayoutModel",
          "model_module_version": "1.2.0",
          "state": {
            "_model_module": "@jupyter-widgets/base",
            "_model_module_version": "1.2.0",
            "_model_name": "LayoutModel",
            "_view_count": null,
            "_view_module": "@jupyter-widgets/base",
            "_view_module_version": "1.2.0",
            "_view_name": "LayoutView",
            "align_content": null,
            "align_items": null,
            "align_self": null,
            "border": null,
            "bottom": null,
            "display": null,
            "flex": null,
            "flex_flow": null,
            "grid_area": null,
            "grid_auto_columns": null,
            "grid_auto_flow": null,
            "grid_auto_rows": null,
            "grid_column": null,
            "grid_gap": null,
            "grid_row": null,
            "grid_template_areas": null,
            "grid_template_columns": null,
            "grid_template_rows": null,
            "height": null,
            "justify_content": null,
            "justify_items": null,
            "left": null,
            "margin": null,
            "max_height": null,
            "max_width": null,
            "min_height": null,
            "min_width": null,
            "object_fit": null,
            "object_position": null,
            "order": null,
            "overflow": null,
            "overflow_x": null,
            "overflow_y": null,
            "padding": null,
            "right": null,
            "top": null,
            "visibility": null,
            "width": null
          }
        },
        "a9e084b72f4e4cbfb952ebefbacfcd14": {
          "model_module": "@jupyter-widgets/base",
          "model_name": "LayoutModel",
          "model_module_version": "1.2.0",
          "state": {
            "_model_module": "@jupyter-widgets/base",
            "_model_module_version": "1.2.0",
            "_model_name": "LayoutModel",
            "_view_count": null,
            "_view_module": "@jupyter-widgets/base",
            "_view_module_version": "1.2.0",
            "_view_name": "LayoutView",
            "align_content": null,
            "align_items": null,
            "align_self": null,
            "border": null,
            "bottom": null,
            "display": null,
            "flex": null,
            "flex_flow": null,
            "grid_area": null,
            "grid_auto_columns": null,
            "grid_auto_flow": null,
            "grid_auto_rows": null,
            "grid_column": null,
            "grid_gap": null,
            "grid_row": null,
            "grid_template_areas": null,
            "grid_template_columns": null,
            "grid_template_rows": null,
            "height": null,
            "justify_content": null,
            "justify_items": null,
            "left": null,
            "margin": null,
            "max_height": null,
            "max_width": null,
            "min_height": null,
            "min_width": null,
            "object_fit": null,
            "object_position": null,
            "order": null,
            "overflow": null,
            "overflow_x": null,
            "overflow_y": null,
            "padding": null,
            "right": null,
            "top": null,
            "visibility": null,
            "width": null
          }
        },
        "c6c8a7c61a6c42d395720c34ac68dec6": {
          "model_module": "@jupyter-widgets/controls",
          "model_name": "DescriptionStyleModel",
          "model_module_version": "1.5.0",
          "state": {
            "_model_module": "@jupyter-widgets/controls",
            "_model_module_version": "1.5.0",
            "_model_name": "DescriptionStyleModel",
            "_view_count": null,
            "_view_module": "@jupyter-widgets/base",
            "_view_module_version": "1.2.0",
            "_view_name": "StyleView",
            "description_width": ""
          }
        },
        "adb13471846b47e9aafe8f418f6b1236": {
          "model_module": "@jupyter-widgets/base",
          "model_name": "LayoutModel",
          "model_module_version": "1.2.0",
          "state": {
            "_model_module": "@jupyter-widgets/base",
            "_model_module_version": "1.2.0",
            "_model_name": "LayoutModel",
            "_view_count": null,
            "_view_module": "@jupyter-widgets/base",
            "_view_module_version": "1.2.0",
            "_view_name": "LayoutView",
            "align_content": null,
            "align_items": null,
            "align_self": null,
            "border": null,
            "bottom": null,
            "display": null,
            "flex": null,
            "flex_flow": null,
            "grid_area": null,
            "grid_auto_columns": null,
            "grid_auto_flow": null,
            "grid_auto_rows": null,
            "grid_column": null,
            "grid_gap": null,
            "grid_row": null,
            "grid_template_areas": null,
            "grid_template_columns": null,
            "grid_template_rows": null,
            "height": null,
            "justify_content": null,
            "justify_items": null,
            "left": null,
            "margin": null,
            "max_height": null,
            "max_width": null,
            "min_height": null,
            "min_width": null,
            "object_fit": null,
            "object_position": null,
            "order": null,
            "overflow": null,
            "overflow_x": null,
            "overflow_y": null,
            "padding": null,
            "right": null,
            "top": null,
            "visibility": null,
            "width": null
          }
        },
        "3dc29a940a3d4313b91e433b9fe4589e": {
          "model_module": "@jupyter-widgets/controls",
          "model_name": "ProgressStyleModel",
          "model_module_version": "1.5.0",
          "state": {
            "_model_module": "@jupyter-widgets/controls",
            "_model_module_version": "1.5.0",
            "_model_name": "ProgressStyleModel",
            "_view_count": null,
            "_view_module": "@jupyter-widgets/base",
            "_view_module_version": "1.2.0",
            "_view_name": "StyleView",
            "bar_color": null,
            "description_width": ""
          }
        },
        "8a2a4531acc643c28394bdbce4087cc9": {
          "model_module": "@jupyter-widgets/base",
          "model_name": "LayoutModel",
          "model_module_version": "1.2.0",
          "state": {
            "_model_module": "@jupyter-widgets/base",
            "_model_module_version": "1.2.0",
            "_model_name": "LayoutModel",
            "_view_count": null,
            "_view_module": "@jupyter-widgets/base",
            "_view_module_version": "1.2.0",
            "_view_name": "LayoutView",
            "align_content": null,
            "align_items": null,
            "align_self": null,
            "border": null,
            "bottom": null,
            "display": null,
            "flex": null,
            "flex_flow": null,
            "grid_area": null,
            "grid_auto_columns": null,
            "grid_auto_flow": null,
            "grid_auto_rows": null,
            "grid_column": null,
            "grid_gap": null,
            "grid_row": null,
            "grid_template_areas": null,
            "grid_template_columns": null,
            "grid_template_rows": null,
            "height": null,
            "justify_content": null,
            "justify_items": null,
            "left": null,
            "margin": null,
            "max_height": null,
            "max_width": null,
            "min_height": null,
            "min_width": null,
            "object_fit": null,
            "object_position": null,
            "order": null,
            "overflow": null,
            "overflow_x": null,
            "overflow_y": null,
            "padding": null,
            "right": null,
            "top": null,
            "visibility": null,
            "width": null
          }
        },
        "2fe8e4e54f7a48bbb3b55f7e0b41df04": {
          "model_module": "@jupyter-widgets/controls",
          "model_name": "DescriptionStyleModel",
          "model_module_version": "1.5.0",
          "state": {
            "_model_module": "@jupyter-widgets/controls",
            "_model_module_version": "1.5.0",
            "_model_name": "DescriptionStyleModel",
            "_view_count": null,
            "_view_module": "@jupyter-widgets/base",
            "_view_module_version": "1.2.0",
            "_view_name": "StyleView",
            "description_width": ""
          }
        },
        "d156e19dc60b44608d32610a55c2afb4": {
          "model_module": "@jupyter-widgets/controls",
          "model_name": "HBoxModel",
          "model_module_version": "1.5.0",
          "state": {
            "_dom_classes": [],
            "_model_module": "@jupyter-widgets/controls",
            "_model_module_version": "1.5.0",
            "_model_name": "HBoxModel",
            "_view_count": null,
            "_view_module": "@jupyter-widgets/controls",
            "_view_module_version": "1.5.0",
            "_view_name": "HBoxView",
            "box_style": "",
            "children": [
              "IPY_MODEL_5acc75c797bb4b858cb2cc5ca7061000",
              "IPY_MODEL_82f1a7305d024aaab3d830a6d5833892",
              "IPY_MODEL_0ef42a739a8d4f72ab7096c897feae15"
            ],
            "layout": "IPY_MODEL_aafa540b1c244f8abd39128e0bed375a"
          }
        },
        "5acc75c797bb4b858cb2cc5ca7061000": {
          "model_module": "@jupyter-widgets/controls",
          "model_name": "HTMLModel",
          "model_module_version": "1.5.0",
          "state": {
            "_dom_classes": [],
            "_model_module": "@jupyter-widgets/controls",
            "_model_module_version": "1.5.0",
            "_model_name": "HTMLModel",
            "_view_count": null,
            "_view_module": "@jupyter-widgets/controls",
            "_view_module_version": "1.5.0",
            "_view_name": "HTMLView",
            "description": "",
            "description_tooltip": null,
            "layout": "IPY_MODEL_a1bef7a06e5d493eaefc9c02352f1bd7",
            "placeholder": "​",
            "style": "IPY_MODEL_d10f21c7887b489780c9bbccc99d30ee",
            "value": "100%"
          }
        },
        "82f1a7305d024aaab3d830a6d5833892": {
          "model_module": "@jupyter-widgets/controls",
          "model_name": "FloatProgressModel",
          "model_module_version": "1.5.0",
          "state": {
            "_dom_classes": [],
            "_model_module": "@jupyter-widgets/controls",
            "_model_module_version": "1.5.0",
            "_model_name": "FloatProgressModel",
            "_view_count": null,
            "_view_module": "@jupyter-widgets/controls",
            "_view_module_version": "1.5.0",
            "_view_name": "ProgressView",
            "bar_style": "success",
            "description": "",
            "description_tooltip": null,
            "layout": "IPY_MODEL_63575829c5b24df7be282c6a694bec2a",
            "max": 213,
            "min": 0,
            "orientation": "horizontal",
            "style": "IPY_MODEL_3eb5d5be03cf4a5cbdf135d835a356c5",
            "value": 213
          }
        },
        "0ef42a739a8d4f72ab7096c897feae15": {
          "model_module": "@jupyter-widgets/controls",
          "model_name": "HTMLModel",
          "model_module_version": "1.5.0",
          "state": {
            "_dom_classes": [],
            "_model_module": "@jupyter-widgets/controls",
            "_model_module_version": "1.5.0",
            "_model_name": "HTMLModel",
            "_view_count": null,
            "_view_module": "@jupyter-widgets/controls",
            "_view_module_version": "1.5.0",
            "_view_name": "HTMLView",
            "description": "",
            "description_tooltip": null,
            "layout": "IPY_MODEL_0773f7de6bea4003bb836b903f22678b",
            "placeholder": "​",
            "style": "IPY_MODEL_3dac7b2c5c3544809563743a6e996f9a",
            "value": " 213/213 [00:11&lt;00:00, 18.02it/s]"
          }
        },
        "aafa540b1c244f8abd39128e0bed375a": {
          "model_module": "@jupyter-widgets/base",
          "model_name": "LayoutModel",
          "model_module_version": "1.2.0",
          "state": {
            "_model_module": "@jupyter-widgets/base",
            "_model_module_version": "1.2.0",
            "_model_name": "LayoutModel",
            "_view_count": null,
            "_view_module": "@jupyter-widgets/base",
            "_view_module_version": "1.2.0",
            "_view_name": "LayoutView",
            "align_content": null,
            "align_items": null,
            "align_self": null,
            "border": null,
            "bottom": null,
            "display": null,
            "flex": null,
            "flex_flow": null,
            "grid_area": null,
            "grid_auto_columns": null,
            "grid_auto_flow": null,
            "grid_auto_rows": null,
            "grid_column": null,
            "grid_gap": null,
            "grid_row": null,
            "grid_template_areas": null,
            "grid_template_columns": null,
            "grid_template_rows": null,
            "height": null,
            "justify_content": null,
            "justify_items": null,
            "left": null,
            "margin": null,
            "max_height": null,
            "max_width": null,
            "min_height": null,
            "min_width": null,
            "object_fit": null,
            "object_position": null,
            "order": null,
            "overflow": null,
            "overflow_x": null,
            "overflow_y": null,
            "padding": null,
            "right": null,
            "top": null,
            "visibility": null,
            "width": null
          }
        },
        "a1bef7a06e5d493eaefc9c02352f1bd7": {
          "model_module": "@jupyter-widgets/base",
          "model_name": "LayoutModel",
          "model_module_version": "1.2.0",
          "state": {
            "_model_module": "@jupyter-widgets/base",
            "_model_module_version": "1.2.0",
            "_model_name": "LayoutModel",
            "_view_count": null,
            "_view_module": "@jupyter-widgets/base",
            "_view_module_version": "1.2.0",
            "_view_name": "LayoutView",
            "align_content": null,
            "align_items": null,
            "align_self": null,
            "border": null,
            "bottom": null,
            "display": null,
            "flex": null,
            "flex_flow": null,
            "grid_area": null,
            "grid_auto_columns": null,
            "grid_auto_flow": null,
            "grid_auto_rows": null,
            "grid_column": null,
            "grid_gap": null,
            "grid_row": null,
            "grid_template_areas": null,
            "grid_template_columns": null,
            "grid_template_rows": null,
            "height": null,
            "justify_content": null,
            "justify_items": null,
            "left": null,
            "margin": null,
            "max_height": null,
            "max_width": null,
            "min_height": null,
            "min_width": null,
            "object_fit": null,
            "object_position": null,
            "order": null,
            "overflow": null,
            "overflow_x": null,
            "overflow_y": null,
            "padding": null,
            "right": null,
            "top": null,
            "visibility": null,
            "width": null
          }
        },
        "d10f21c7887b489780c9bbccc99d30ee": {
          "model_module": "@jupyter-widgets/controls",
          "model_name": "DescriptionStyleModel",
          "model_module_version": "1.5.0",
          "state": {
            "_model_module": "@jupyter-widgets/controls",
            "_model_module_version": "1.5.0",
            "_model_name": "DescriptionStyleModel",
            "_view_count": null,
            "_view_module": "@jupyter-widgets/base",
            "_view_module_version": "1.2.0",
            "_view_name": "StyleView",
            "description_width": ""
          }
        },
        "63575829c5b24df7be282c6a694bec2a": {
          "model_module": "@jupyter-widgets/base",
          "model_name": "LayoutModel",
          "model_module_version": "1.2.0",
          "state": {
            "_model_module": "@jupyter-widgets/base",
            "_model_module_version": "1.2.0",
            "_model_name": "LayoutModel",
            "_view_count": null,
            "_view_module": "@jupyter-widgets/base",
            "_view_module_version": "1.2.0",
            "_view_name": "LayoutView",
            "align_content": null,
            "align_items": null,
            "align_self": null,
            "border": null,
            "bottom": null,
            "display": null,
            "flex": null,
            "flex_flow": null,
            "grid_area": null,
            "grid_auto_columns": null,
            "grid_auto_flow": null,
            "grid_auto_rows": null,
            "grid_column": null,
            "grid_gap": null,
            "grid_row": null,
            "grid_template_areas": null,
            "grid_template_columns": null,
            "grid_template_rows": null,
            "height": null,
            "justify_content": null,
            "justify_items": null,
            "left": null,
            "margin": null,
            "max_height": null,
            "max_width": null,
            "min_height": null,
            "min_width": null,
            "object_fit": null,
            "object_position": null,
            "order": null,
            "overflow": null,
            "overflow_x": null,
            "overflow_y": null,
            "padding": null,
            "right": null,
            "top": null,
            "visibility": null,
            "width": null
          }
        },
        "3eb5d5be03cf4a5cbdf135d835a356c5": {
          "model_module": "@jupyter-widgets/controls",
          "model_name": "ProgressStyleModel",
          "model_module_version": "1.5.0",
          "state": {
            "_model_module": "@jupyter-widgets/controls",
            "_model_module_version": "1.5.0",
            "_model_name": "ProgressStyleModel",
            "_view_count": null,
            "_view_module": "@jupyter-widgets/base",
            "_view_module_version": "1.2.0",
            "_view_name": "StyleView",
            "bar_color": null,
            "description_width": ""
          }
        },
        "0773f7de6bea4003bb836b903f22678b": {
          "model_module": "@jupyter-widgets/base",
          "model_name": "LayoutModel",
          "model_module_version": "1.2.0",
          "state": {
            "_model_module": "@jupyter-widgets/base",
            "_model_module_version": "1.2.0",
            "_model_name": "LayoutModel",
            "_view_count": null,
            "_view_module": "@jupyter-widgets/base",
            "_view_module_version": "1.2.0",
            "_view_name": "LayoutView",
            "align_content": null,
            "align_items": null,
            "align_self": null,
            "border": null,
            "bottom": null,
            "display": null,
            "flex": null,
            "flex_flow": null,
            "grid_area": null,
            "grid_auto_columns": null,
            "grid_auto_flow": null,
            "grid_auto_rows": null,
            "grid_column": null,
            "grid_gap": null,
            "grid_row": null,
            "grid_template_areas": null,
            "grid_template_columns": null,
            "grid_template_rows": null,
            "height": null,
            "justify_content": null,
            "justify_items": null,
            "left": null,
            "margin": null,
            "max_height": null,
            "max_width": null,
            "min_height": null,
            "min_width": null,
            "object_fit": null,
            "object_position": null,
            "order": null,
            "overflow": null,
            "overflow_x": null,
            "overflow_y": null,
            "padding": null,
            "right": null,
            "top": null,
            "visibility": null,
            "width": null
          }
        },
        "3dac7b2c5c3544809563743a6e996f9a": {
          "model_module": "@jupyter-widgets/controls",
          "model_name": "DescriptionStyleModel",
          "model_module_version": "1.5.0",
          "state": {
            "_model_module": "@jupyter-widgets/controls",
            "_model_module_version": "1.5.0",
            "_model_name": "DescriptionStyleModel",
            "_view_count": null,
            "_view_module": "@jupyter-widgets/base",
            "_view_module_version": "1.2.0",
            "_view_name": "StyleView",
            "description_width": ""
          }
        },
        "1178a938ee694eadbac5a48a48eeb3f3": {
          "model_module": "@jupyter-widgets/controls",
          "model_name": "HBoxModel",
          "model_module_version": "1.5.0",
          "state": {
            "_dom_classes": [],
            "_model_module": "@jupyter-widgets/controls",
            "_model_module_version": "1.5.0",
            "_model_name": "HBoxModel",
            "_view_count": null,
            "_view_module": "@jupyter-widgets/controls",
            "_view_module_version": "1.5.0",
            "_view_name": "HBoxView",
            "box_style": "",
            "children": [
              "IPY_MODEL_37d98837a24a4986ae8f03e42452a627",
              "IPY_MODEL_6843180057174efb877bb8c1c8d02af0",
              "IPY_MODEL_d4c8fc1c2f75488e88bf3c7952fbf871"
            ],
            "layout": "IPY_MODEL_fb26ea0808b941b3ad21aa0d7e8b59b3"
          }
        },
        "37d98837a24a4986ae8f03e42452a627": {
          "model_module": "@jupyter-widgets/controls",
          "model_name": "HTMLModel",
          "model_module_version": "1.5.0",
          "state": {
            "_dom_classes": [],
            "_model_module": "@jupyter-widgets/controls",
            "_model_module_version": "1.5.0",
            "_model_name": "HTMLModel",
            "_view_count": null,
            "_view_module": "@jupyter-widgets/controls",
            "_view_module_version": "1.5.0",
            "_view_name": "HTMLView",
            "description": "",
            "description_tooltip": null,
            "layout": "IPY_MODEL_8574e278b3a247e78dcb68c81870f560",
            "placeholder": "​",
            "style": "IPY_MODEL_623508e9789c4190b22458650cb62ec1",
            "value": "100%"
          }
        },
        "6843180057174efb877bb8c1c8d02af0": {
          "model_module": "@jupyter-widgets/controls",
          "model_name": "FloatProgressModel",
          "model_module_version": "1.5.0",
          "state": {
            "_dom_classes": [],
            "_model_module": "@jupyter-widgets/controls",
            "_model_module_version": "1.5.0",
            "_model_name": "FloatProgressModel",
            "_view_count": null,
            "_view_module": "@jupyter-widgets/controls",
            "_view_module_version": "1.5.0",
            "_view_name": "ProgressView",
            "bar_style": "success",
            "description": "",
            "description_tooltip": null,
            "layout": "IPY_MODEL_b743851c101e4e3f80730084ec3e5b87",
            "max": 6799,
            "min": 0,
            "orientation": "horizontal",
            "style": "IPY_MODEL_47c82ea1c03d4c70810a2dc52d542c91",
            "value": 6799
          }
        },
        "d4c8fc1c2f75488e88bf3c7952fbf871": {
          "model_module": "@jupyter-widgets/controls",
          "model_name": "HTMLModel",
          "model_module_version": "1.5.0",
          "state": {
            "_dom_classes": [],
            "_model_module": "@jupyter-widgets/controls",
            "_model_module_version": "1.5.0",
            "_model_name": "HTMLModel",
            "_view_count": null,
            "_view_module": "@jupyter-widgets/controls",
            "_view_module_version": "1.5.0",
            "_view_name": "HTMLView",
            "description": "",
            "description_tooltip": null,
            "layout": "IPY_MODEL_3a0c10329b7b45f2aca962448adb17d8",
            "placeholder": "​",
            "style": "IPY_MODEL_b667e300eeaf42b385caa60be10c1b32",
            "value": " 6799/6799 [00:10&lt;00:00, 323.84it/s]"
          }
        },
        "fb26ea0808b941b3ad21aa0d7e8b59b3": {
          "model_module": "@jupyter-widgets/base",
          "model_name": "LayoutModel",
          "model_module_version": "1.2.0",
          "state": {
            "_model_module": "@jupyter-widgets/base",
            "_model_module_version": "1.2.0",
            "_model_name": "LayoutModel",
            "_view_count": null,
            "_view_module": "@jupyter-widgets/base",
            "_view_module_version": "1.2.0",
            "_view_name": "LayoutView",
            "align_content": null,
            "align_items": null,
            "align_self": null,
            "border": null,
            "bottom": null,
            "display": null,
            "flex": null,
            "flex_flow": null,
            "grid_area": null,
            "grid_auto_columns": null,
            "grid_auto_flow": null,
            "grid_auto_rows": null,
            "grid_column": null,
            "grid_gap": null,
            "grid_row": null,
            "grid_template_areas": null,
            "grid_template_columns": null,
            "grid_template_rows": null,
            "height": null,
            "justify_content": null,
            "justify_items": null,
            "left": null,
            "margin": null,
            "max_height": null,
            "max_width": null,
            "min_height": null,
            "min_width": null,
            "object_fit": null,
            "object_position": null,
            "order": null,
            "overflow": null,
            "overflow_x": null,
            "overflow_y": null,
            "padding": null,
            "right": null,
            "top": null,
            "visibility": null,
            "width": null
          }
        },
        "8574e278b3a247e78dcb68c81870f560": {
          "model_module": "@jupyter-widgets/base",
          "model_name": "LayoutModel",
          "model_module_version": "1.2.0",
          "state": {
            "_model_module": "@jupyter-widgets/base",
            "_model_module_version": "1.2.0",
            "_model_name": "LayoutModel",
            "_view_count": null,
            "_view_module": "@jupyter-widgets/base",
            "_view_module_version": "1.2.0",
            "_view_name": "LayoutView",
            "align_content": null,
            "align_items": null,
            "align_self": null,
            "border": null,
            "bottom": null,
            "display": null,
            "flex": null,
            "flex_flow": null,
            "grid_area": null,
            "grid_auto_columns": null,
            "grid_auto_flow": null,
            "grid_auto_rows": null,
            "grid_column": null,
            "grid_gap": null,
            "grid_row": null,
            "grid_template_areas": null,
            "grid_template_columns": null,
            "grid_template_rows": null,
            "height": null,
            "justify_content": null,
            "justify_items": null,
            "left": null,
            "margin": null,
            "max_height": null,
            "max_width": null,
            "min_height": null,
            "min_width": null,
            "object_fit": null,
            "object_position": null,
            "order": null,
            "overflow": null,
            "overflow_x": null,
            "overflow_y": null,
            "padding": null,
            "right": null,
            "top": null,
            "visibility": null,
            "width": null
          }
        },
        "623508e9789c4190b22458650cb62ec1": {
          "model_module": "@jupyter-widgets/controls",
          "model_name": "DescriptionStyleModel",
          "model_module_version": "1.5.0",
          "state": {
            "_model_module": "@jupyter-widgets/controls",
            "_model_module_version": "1.5.0",
            "_model_name": "DescriptionStyleModel",
            "_view_count": null,
            "_view_module": "@jupyter-widgets/base",
            "_view_module_version": "1.2.0",
            "_view_name": "StyleView",
            "description_width": ""
          }
        },
        "b743851c101e4e3f80730084ec3e5b87": {
          "model_module": "@jupyter-widgets/base",
          "model_name": "LayoutModel",
          "model_module_version": "1.2.0",
          "state": {
            "_model_module": "@jupyter-widgets/base",
            "_model_module_version": "1.2.0",
            "_model_name": "LayoutModel",
            "_view_count": null,
            "_view_module": "@jupyter-widgets/base",
            "_view_module_version": "1.2.0",
            "_view_name": "LayoutView",
            "align_content": null,
            "align_items": null,
            "align_self": null,
            "border": null,
            "bottom": null,
            "display": null,
            "flex": null,
            "flex_flow": null,
            "grid_area": null,
            "grid_auto_columns": null,
            "grid_auto_flow": null,
            "grid_auto_rows": null,
            "grid_column": null,
            "grid_gap": null,
            "grid_row": null,
            "grid_template_areas": null,
            "grid_template_columns": null,
            "grid_template_rows": null,
            "height": null,
            "justify_content": null,
            "justify_items": null,
            "left": null,
            "margin": null,
            "max_height": null,
            "max_width": null,
            "min_height": null,
            "min_width": null,
            "object_fit": null,
            "object_position": null,
            "order": null,
            "overflow": null,
            "overflow_x": null,
            "overflow_y": null,
            "padding": null,
            "right": null,
            "top": null,
            "visibility": null,
            "width": null
          }
        },
        "47c82ea1c03d4c70810a2dc52d542c91": {
          "model_module": "@jupyter-widgets/controls",
          "model_name": "ProgressStyleModel",
          "model_module_version": "1.5.0",
          "state": {
            "_model_module": "@jupyter-widgets/controls",
            "_model_module_version": "1.5.0",
            "_model_name": "ProgressStyleModel",
            "_view_count": null,
            "_view_module": "@jupyter-widgets/base",
            "_view_module_version": "1.2.0",
            "_view_name": "StyleView",
            "bar_color": null,
            "description_width": ""
          }
        },
        "3a0c10329b7b45f2aca962448adb17d8": {
          "model_module": "@jupyter-widgets/base",
          "model_name": "LayoutModel",
          "model_module_version": "1.2.0",
          "state": {
            "_model_module": "@jupyter-widgets/base",
            "_model_module_version": "1.2.0",
            "_model_name": "LayoutModel",
            "_view_count": null,
            "_view_module": "@jupyter-widgets/base",
            "_view_module_version": "1.2.0",
            "_view_name": "LayoutView",
            "align_content": null,
            "align_items": null,
            "align_self": null,
            "border": null,
            "bottom": null,
            "display": null,
            "flex": null,
            "flex_flow": null,
            "grid_area": null,
            "grid_auto_columns": null,
            "grid_auto_flow": null,
            "grid_auto_rows": null,
            "grid_column": null,
            "grid_gap": null,
            "grid_row": null,
            "grid_template_areas": null,
            "grid_template_columns": null,
            "grid_template_rows": null,
            "height": null,
            "justify_content": null,
            "justify_items": null,
            "left": null,
            "margin": null,
            "max_height": null,
            "max_width": null,
            "min_height": null,
            "min_width": null,
            "object_fit": null,
            "object_position": null,
            "order": null,
            "overflow": null,
            "overflow_x": null,
            "overflow_y": null,
            "padding": null,
            "right": null,
            "top": null,
            "visibility": null,
            "width": null
          }
        },
        "b667e300eeaf42b385caa60be10c1b32": {
          "model_module": "@jupyter-widgets/controls",
          "model_name": "DescriptionStyleModel",
          "model_module_version": "1.5.0",
          "state": {
            "_model_module": "@jupyter-widgets/controls",
            "_model_module_version": "1.5.0",
            "_model_name": "DescriptionStyleModel",
            "_view_count": null,
            "_view_module": "@jupyter-widgets/base",
            "_view_module_version": "1.2.0",
            "_view_name": "StyleView",
            "description_width": ""
          }
        },
        "c1a230a9032a4d5b83b9adbc0893d916": {
          "model_module": "@jupyter-widgets/controls",
          "model_name": "HBoxModel",
          "model_module_version": "1.5.0",
          "state": {
            "_dom_classes": [],
            "_model_module": "@jupyter-widgets/controls",
            "_model_module_version": "1.5.0",
            "_model_name": "HBoxModel",
            "_view_count": null,
            "_view_module": "@jupyter-widgets/controls",
            "_view_module_version": "1.5.0",
            "_view_name": "HBoxView",
            "box_style": "",
            "children": [
              "IPY_MODEL_9f58081599cc42fc870ec4a6e65bcdde",
              "IPY_MODEL_053be316380d4ef08ed87587e3311aa8",
              "IPY_MODEL_96b09cd5a2804435a1f0ae63b503e44a"
            ],
            "layout": "IPY_MODEL_1540267113f74b968907dd3fa62ad880"
          }
        },
        "9f58081599cc42fc870ec4a6e65bcdde": {
          "model_module": "@jupyter-widgets/controls",
          "model_name": "HTMLModel",
          "model_module_version": "1.5.0",
          "state": {
            "_dom_classes": [],
            "_model_module": "@jupyter-widgets/controls",
            "_model_module_version": "1.5.0",
            "_model_name": "HTMLModel",
            "_view_count": null,
            "_view_module": "@jupyter-widgets/controls",
            "_view_module_version": "1.5.0",
            "_view_name": "HTMLView",
            "description": "",
            "description_tooltip": null,
            "layout": "IPY_MODEL_d67b4c0f9a81401eaaa8faaf14b59d9e",
            "placeholder": "​",
            "style": "IPY_MODEL_430cd3300f4d42dfb457eb99158b7898",
            "value": "100%"
          }
        },
        "053be316380d4ef08ed87587e3311aa8": {
          "model_module": "@jupyter-widgets/controls",
          "model_name": "FloatProgressModel",
          "model_module_version": "1.5.0",
          "state": {
            "_dom_classes": [],
            "_model_module": "@jupyter-widgets/controls",
            "_model_module_version": "1.5.0",
            "_model_name": "FloatProgressModel",
            "_view_count": null,
            "_view_module": "@jupyter-widgets/controls",
            "_view_module_version": "1.5.0",
            "_view_name": "ProgressView",
            "bar_style": "success",
            "description": "",
            "description_tooltip": null,
            "layout": "IPY_MODEL_28ba71495b8c4fe89b8ee17d4916e79b",
            "max": 2278,
            "min": 0,
            "orientation": "horizontal",
            "style": "IPY_MODEL_2b10159f0b464e1188fe523d1a048962",
            "value": 2278
          }
        },
        "96b09cd5a2804435a1f0ae63b503e44a": {
          "model_module": "@jupyter-widgets/controls",
          "model_name": "HTMLModel",
          "model_module_version": "1.5.0",
          "state": {
            "_dom_classes": [],
            "_model_module": "@jupyter-widgets/controls",
            "_model_module_version": "1.5.0",
            "_model_name": "HTMLModel",
            "_view_count": null,
            "_view_module": "@jupyter-widgets/controls",
            "_view_module_version": "1.5.0",
            "_view_name": "HTMLView",
            "description": "",
            "description_tooltip": null,
            "layout": "IPY_MODEL_5a196ed976e64bb3a3846caf10e189c8",
            "placeholder": "​",
            "style": "IPY_MODEL_98f4cf5d462e4195b256a026131324a5",
            "value": " 2278/2278 [00:03&lt;00:00, 761.85it/s]"
          }
        },
        "1540267113f74b968907dd3fa62ad880": {
          "model_module": "@jupyter-widgets/base",
          "model_name": "LayoutModel",
          "model_module_version": "1.2.0",
          "state": {
            "_model_module": "@jupyter-widgets/base",
            "_model_module_version": "1.2.0",
            "_model_name": "LayoutModel",
            "_view_count": null,
            "_view_module": "@jupyter-widgets/base",
            "_view_module_version": "1.2.0",
            "_view_name": "LayoutView",
            "align_content": null,
            "align_items": null,
            "align_self": null,
            "border": null,
            "bottom": null,
            "display": null,
            "flex": null,
            "flex_flow": null,
            "grid_area": null,
            "grid_auto_columns": null,
            "grid_auto_flow": null,
            "grid_auto_rows": null,
            "grid_column": null,
            "grid_gap": null,
            "grid_row": null,
            "grid_template_areas": null,
            "grid_template_columns": null,
            "grid_template_rows": null,
            "height": null,
            "justify_content": null,
            "justify_items": null,
            "left": null,
            "margin": null,
            "max_height": null,
            "max_width": null,
            "min_height": null,
            "min_width": null,
            "object_fit": null,
            "object_position": null,
            "order": null,
            "overflow": null,
            "overflow_x": null,
            "overflow_y": null,
            "padding": null,
            "right": null,
            "top": null,
            "visibility": null,
            "width": null
          }
        },
        "d67b4c0f9a81401eaaa8faaf14b59d9e": {
          "model_module": "@jupyter-widgets/base",
          "model_name": "LayoutModel",
          "model_module_version": "1.2.0",
          "state": {
            "_model_module": "@jupyter-widgets/base",
            "_model_module_version": "1.2.0",
            "_model_name": "LayoutModel",
            "_view_count": null,
            "_view_module": "@jupyter-widgets/base",
            "_view_module_version": "1.2.0",
            "_view_name": "LayoutView",
            "align_content": null,
            "align_items": null,
            "align_self": null,
            "border": null,
            "bottom": null,
            "display": null,
            "flex": null,
            "flex_flow": null,
            "grid_area": null,
            "grid_auto_columns": null,
            "grid_auto_flow": null,
            "grid_auto_rows": null,
            "grid_column": null,
            "grid_gap": null,
            "grid_row": null,
            "grid_template_areas": null,
            "grid_template_columns": null,
            "grid_template_rows": null,
            "height": null,
            "justify_content": null,
            "justify_items": null,
            "left": null,
            "margin": null,
            "max_height": null,
            "max_width": null,
            "min_height": null,
            "min_width": null,
            "object_fit": null,
            "object_position": null,
            "order": null,
            "overflow": null,
            "overflow_x": null,
            "overflow_y": null,
            "padding": null,
            "right": null,
            "top": null,
            "visibility": null,
            "width": null
          }
        },
        "430cd3300f4d42dfb457eb99158b7898": {
          "model_module": "@jupyter-widgets/controls",
          "model_name": "DescriptionStyleModel",
          "model_module_version": "1.5.0",
          "state": {
            "_model_module": "@jupyter-widgets/controls",
            "_model_module_version": "1.5.0",
            "_model_name": "DescriptionStyleModel",
            "_view_count": null,
            "_view_module": "@jupyter-widgets/base",
            "_view_module_version": "1.2.0",
            "_view_name": "StyleView",
            "description_width": ""
          }
        },
        "28ba71495b8c4fe89b8ee17d4916e79b": {
          "model_module": "@jupyter-widgets/base",
          "model_name": "LayoutModel",
          "model_module_version": "1.2.0",
          "state": {
            "_model_module": "@jupyter-widgets/base",
            "_model_module_version": "1.2.0",
            "_model_name": "LayoutModel",
            "_view_count": null,
            "_view_module": "@jupyter-widgets/base",
            "_view_module_version": "1.2.0",
            "_view_name": "LayoutView",
            "align_content": null,
            "align_items": null,
            "align_self": null,
            "border": null,
            "bottom": null,
            "display": null,
            "flex": null,
            "flex_flow": null,
            "grid_area": null,
            "grid_auto_columns": null,
            "grid_auto_flow": null,
            "grid_auto_rows": null,
            "grid_column": null,
            "grid_gap": null,
            "grid_row": null,
            "grid_template_areas": null,
            "grid_template_columns": null,
            "grid_template_rows": null,
            "height": null,
            "justify_content": null,
            "justify_items": null,
            "left": null,
            "margin": null,
            "max_height": null,
            "max_width": null,
            "min_height": null,
            "min_width": null,
            "object_fit": null,
            "object_position": null,
            "order": null,
            "overflow": null,
            "overflow_x": null,
            "overflow_y": null,
            "padding": null,
            "right": null,
            "top": null,
            "visibility": null,
            "width": null
          }
        },
        "2b10159f0b464e1188fe523d1a048962": {
          "model_module": "@jupyter-widgets/controls",
          "model_name": "ProgressStyleModel",
          "model_module_version": "1.5.0",
          "state": {
            "_model_module": "@jupyter-widgets/controls",
            "_model_module_version": "1.5.0",
            "_model_name": "ProgressStyleModel",
            "_view_count": null,
            "_view_module": "@jupyter-widgets/base",
            "_view_module_version": "1.2.0",
            "_view_name": "StyleView",
            "bar_color": null,
            "description_width": ""
          }
        },
        "5a196ed976e64bb3a3846caf10e189c8": {
          "model_module": "@jupyter-widgets/base",
          "model_name": "LayoutModel",
          "model_module_version": "1.2.0",
          "state": {
            "_model_module": "@jupyter-widgets/base",
            "_model_module_version": "1.2.0",
            "_model_name": "LayoutModel",
            "_view_count": null,
            "_view_module": "@jupyter-widgets/base",
            "_view_module_version": "1.2.0",
            "_view_name": "LayoutView",
            "align_content": null,
            "align_items": null,
            "align_self": null,
            "border": null,
            "bottom": null,
            "display": null,
            "flex": null,
            "flex_flow": null,
            "grid_area": null,
            "grid_auto_columns": null,
            "grid_auto_flow": null,
            "grid_auto_rows": null,
            "grid_column": null,
            "grid_gap": null,
            "grid_row": null,
            "grid_template_areas": null,
            "grid_template_columns": null,
            "grid_template_rows": null,
            "height": null,
            "justify_content": null,
            "justify_items": null,
            "left": null,
            "margin": null,
            "max_height": null,
            "max_width": null,
            "min_height": null,
            "min_width": null,
            "object_fit": null,
            "object_position": null,
            "order": null,
            "overflow": null,
            "overflow_x": null,
            "overflow_y": null,
            "padding": null,
            "right": null,
            "top": null,
            "visibility": null,
            "width": null
          }
        },
        "98f4cf5d462e4195b256a026131324a5": {
          "model_module": "@jupyter-widgets/controls",
          "model_name": "DescriptionStyleModel",
          "model_module_version": "1.5.0",
          "state": {
            "_model_module": "@jupyter-widgets/controls",
            "_model_module_version": "1.5.0",
            "_model_name": "DescriptionStyleModel",
            "_view_count": null,
            "_view_module": "@jupyter-widgets/base",
            "_view_module_version": "1.2.0",
            "_view_name": "StyleView",
            "description_width": ""
          }
        }
      }
    }
  },
  "nbformat": 4,
  "nbformat_minor": 5
}